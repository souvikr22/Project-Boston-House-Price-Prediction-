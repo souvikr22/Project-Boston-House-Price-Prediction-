{
 "cells": [
  {
   "cell_type": "markdown",
   "id": "603b0bfc",
   "metadata": {
    "tags": []
   },
   "source": [
    "# BOSTON HOUSE PRICE PREDICTION"
   ]
  },
  {
   "cell_type": "code",
   "execution_count": 1,
   "id": "6cd15740",
   "metadata": {},
   "outputs": [],
   "source": [
    "import numpy as np\n",
    "import pandas as pd\n",
    "import matplotlib.pyplot as plt\n",
    "import seaborn as sns"
   ]
  },
  {
   "cell_type": "code",
   "execution_count": 2,
   "id": "4a34614f",
   "metadata": {},
   "outputs": [],
   "source": [
    "from sklearn.datasets import load_boston"
   ]
  },
  {
   "cell_type": "code",
   "execution_count": 3,
   "id": "03dd7f55",
   "metadata": {},
   "outputs": [
    {
     "name": "stderr",
     "output_type": "stream",
     "text": [
      "C:\\Users\\souvi\\anaconda3\\lib\\site-packages\\sklearn\\utils\\deprecation.py:87: FutureWarning: Function load_boston is deprecated; `load_boston` is deprecated in 1.0 and will be removed in 1.2.\n",
      "\n",
      "    The Boston housing prices dataset has an ethical problem. You can refer to\n",
      "    the documentation of this function for further details.\n",
      "\n",
      "    The scikit-learn maintainers therefore strongly discourage the use of this\n",
      "    dataset unless the purpose of the code is to study and educate about\n",
      "    ethical issues in data science and machine learning.\n",
      "\n",
      "    In this special case, you can fetch the dataset from the original\n",
      "    source::\n",
      "\n",
      "        import pandas as pd\n",
      "        import numpy as np\n",
      "\n",
      "\n",
      "        data_url = \"http://lib.stat.cmu.edu/datasets/boston\"\n",
      "        raw_df = pd.read_csv(data_url, sep=\"\\s+\", skiprows=22, header=None)\n",
      "        data = np.hstack([raw_df.values[::2, :], raw_df.values[1::2, :2]])\n",
      "        target = raw_df.values[1::2, 2]\n",
      "\n",
      "    Alternative datasets include the California housing dataset (i.e.\n",
      "    :func:`~sklearn.datasets.fetch_california_housing`) and the Ames housing\n",
      "    dataset. You can load the datasets as follows::\n",
      "\n",
      "        from sklearn.datasets import fetch_california_housing\n",
      "        housing = fetch_california_housing()\n",
      "\n",
      "    for the California housing dataset and::\n",
      "\n",
      "        from sklearn.datasets import fetch_openml\n",
      "        housing = fetch_openml(name=\"house_prices\", as_frame=True)\n",
      "\n",
      "    for the Ames housing dataset.\n",
      "    \n",
      "  warnings.warn(msg, category=FutureWarning)\n",
      "C:\\Users\\souvi\\anaconda3\\lib\\site-packages\\sklearn\\utils\\deprecation.py:87: FutureWarning: Function load_boston is deprecated; `load_boston` is deprecated in 1.0 and will be removed in 1.2.\n",
      "\n",
      "    The Boston housing prices dataset has an ethical problem. You can refer to\n",
      "    the documentation of this function for further details.\n",
      "\n",
      "    The scikit-learn maintainers therefore strongly discourage the use of this\n",
      "    dataset unless the purpose of the code is to study and educate about\n",
      "    ethical issues in data science and machine learning.\n",
      "\n",
      "    In this special case, you can fetch the dataset from the original\n",
      "    source::\n",
      "\n",
      "        import pandas as pd\n",
      "        import numpy as np\n",
      "\n",
      "\n",
      "        data_url = \"http://lib.stat.cmu.edu/datasets/boston\"\n",
      "        raw_df = pd.read_csv(data_url, sep=\"\\s+\", skiprows=22, header=None)\n",
      "        data = np.hstack([raw_df.values[::2, :], raw_df.values[1::2, :2]])\n",
      "        target = raw_df.values[1::2, 2]\n",
      "\n",
      "    Alternative datasets include the California housing dataset (i.e.\n",
      "    :func:`~sklearn.datasets.fetch_california_housing`) and the Ames housing\n",
      "    dataset. You can load the datasets as follows::\n",
      "\n",
      "        from sklearn.datasets import fetch_california_housing\n",
      "        housing = fetch_california_housing()\n",
      "\n",
      "    for the California housing dataset and::\n",
      "\n",
      "        from sklearn.datasets import fetch_openml\n",
      "        housing = fetch_openml(name=\"house_prices\", as_frame=True)\n",
      "\n",
      "    for the Ames housing dataset.\n",
      "    \n",
      "  warnings.warn(msg, category=FutureWarning)\n"
     ]
    }
   ],
   "source": [
    "boston = load_boston().data\n",
    "\n",
    "boston = pd.DataFrame(boston , columns = [load_boston().feature_names])\n",
    "housePrice = load_boston().target\n",
    "\n",
    "boston['house prices'] = housePrice\n",
    "\n",
    "import seaborn as sns\n",
    "\n"
   ]
  },
  {
   "cell_type": "code",
   "execution_count": 4,
   "id": "66083044",
   "metadata": {},
   "outputs": [
    {
     "name": "stderr",
     "output_type": "stream",
     "text": [
      "C:\\Users\\souvi\\anaconda3\\lib\\site-packages\\seaborn\\distributions.py:2619: FutureWarning: `distplot` is a deprecated function and will be removed in a future version. Please adapt your code to use either `displot` (a figure-level function with similar flexibility) or `histplot` (an axes-level function for histograms).\n",
      "  warnings.warn(msg, FutureWarning)\n"
     ]
    },
    {
     "data": {
      "text/plain": [
       "<matplotlib.legend.Legend at 0x1f21ceb0b80>"
      ]
     },
     "execution_count": 4,
     "metadata": {},
     "output_type": "execute_result"
    },
    {
     "data": {
      "image/png": "[encoded data removed]",
      "text/plain": [
       "<Figure size 432x288 with 1 Axes>"
      ]
     },
     "metadata": {
      "needs_background": "light"
     },
     "output_type": "display_data"
    }
   ],
   "source": [
    "import matplotlib.pyplot as plt\n",
    "import seaborn as sns\n",
    "from scipy.stats import norm\n",
    "(m,s) = norm.fit(boston['house prices'])\n",
    "\n",
    "sns.distplot(boston['house prices'] , fit = norm )\n",
    "plt.legend(['normal distribution with mean={:.2f} and varience={:.2f}'.format(m,s)] , loc='best')\n",
    "\n",
    "\n"
   ]
  },
  {
   "cell_type": "code",
   "execution_count": 5,
   "id": "7147b308",
   "metadata": {},
   "outputs": [
    {
     "data": {
      "text/plain": [
       "Text(0, 0.5, 'HOUSE PRICES AT THAT AREA')"
      ]
     },
     "execution_count": 5,
     "metadata": {},
     "output_type": "execute_result"
    },
    {
     "data": {
      "image/png": "[encoded data removed]",
      "text/plain": [
       "<Figure size 432x288 with 1 Axes>"
      ]
     },
     "metadata": {
      "needs_background": "light"
     },
     "output_type": "display_data"
    }
   ],
   "source": [
    "sns.regplot(y=boston['house prices'] , x=boston['CRIM'] , color='teal')\n",
    "\n",
    "plt.xlabel('CRIME')\n",
    "plt.ylabel('HOUSE PRICES AT THAT AREA')"
   ]
  },
  {
   "cell_type": "code",
   "execution_count": 6,
   "id": "00fd2b83",
   "metadata": {},
   "outputs": [
    {
     "data": {
      "text/html": [
       "<div>\n",
       "<style scoped>\n",
       "    .dataframe tbody tr th:only-of-type {\n",
       "        vertical-align: middle;\n",
       "    }\n",
       "\n",
       "    .dataframe tbody tr th {\n",
       "        vertical-align: top;\n",
       "    }\n",
       "\n",
       "    .dataframe thead tr th {\n",
       "        text-align: left;\n",
       "    }\n",
       "</style>\n",
       "<table border=\"1\" class=\"dataframe\">\n",
       "  <thead>\n",
       "    <tr>\n",
       "      <th></th>\n",
       "      <th>CRIM</th>\n",
       "      <th>ZN</th>\n",
       "      <th>INDUS</th>\n",
       "      <th>CHAS</th>\n",
       "      <th>NOX</th>\n",
       "      <th>RM</th>\n",
       "      <th>AGE</th>\n",
       "      <th>DIS</th>\n",
       "      <th>RAD</th>\n",
       "      <th>TAX</th>\n",
       "      <th>PTRATIO</th>\n",
       "      <th>B</th>\n",
       "      <th>LSTAT</th>\n",
       "      <th>house prices</th>\n",
       "    </tr>\n",
       "  </thead>\n",
       "  <tbody>\n",
       "    <tr>\n",
       "      <th>0</th>\n",
       "      <td>0.00632</td>\n",
       "      <td>18.0</td>\n",
       "      <td>2.31</td>\n",
       "      <td>0.0</td>\n",
       "      <td>0.538</td>\n",
       "      <td>6.575</td>\n",
       "      <td>65.2</td>\n",
       "      <td>4.0900</td>\n",
       "      <td>1.0</td>\n",
       "      <td>296.0</td>\n",
       "      <td>15.3</td>\n",
       "      <td>396.90</td>\n",
       "      <td>4.98</td>\n",
       "      <td>24.0</td>\n",
       "    </tr>\n",
       "    <tr>\n",
       "      <th>1</th>\n",
       "      <td>0.02731</td>\n",
       "      <td>0.0</td>\n",
       "      <td>7.07</td>\n",
       "      <td>0.0</td>\n",
       "      <td>0.469</td>\n",
       "      <td>6.421</td>\n",
       "      <td>78.9</td>\n",
       "      <td>4.9671</td>\n",
       "      <td>2.0</td>\n",
       "      <td>242.0</td>\n",
       "      <td>17.8</td>\n",
       "      <td>396.90</td>\n",
       "      <td>9.14</td>\n",
       "      <td>21.6</td>\n",
       "    </tr>\n",
       "    <tr>\n",
       "      <th>2</th>\n",
       "      <td>0.02729</td>\n",
       "      <td>0.0</td>\n",
       "      <td>7.07</td>\n",
       "      <td>0.0</td>\n",
       "      <td>0.469</td>\n",
       "      <td>7.185</td>\n",
       "      <td>61.1</td>\n",
       "      <td>4.9671</td>\n",
       "      <td>2.0</td>\n",
       "      <td>242.0</td>\n",
       "      <td>17.8</td>\n",
       "      <td>392.83</td>\n",
       "      <td>4.03</td>\n",
       "      <td>34.7</td>\n",
       "    </tr>\n",
       "    <tr>\n",
       "      <th>3</th>\n",
       "      <td>0.03237</td>\n",
       "      <td>0.0</td>\n",
       "      <td>2.18</td>\n",
       "      <td>0.0</td>\n",
       "      <td>0.458</td>\n",
       "      <td>6.998</td>\n",
       "      <td>45.8</td>\n",
       "      <td>6.0622</td>\n",
       "      <td>3.0</td>\n",
       "      <td>222.0</td>\n",
       "      <td>18.7</td>\n",
       "      <td>394.63</td>\n",
       "      <td>2.94</td>\n",
       "      <td>33.4</td>\n",
       "    </tr>\n",
       "    <tr>\n",
       "      <th>4</th>\n",
       "      <td>0.06905</td>\n",
       "      <td>0.0</td>\n",
       "      <td>2.18</td>\n",
       "      <td>0.0</td>\n",
       "      <td>0.458</td>\n",
       "      <td>7.147</td>\n",
       "      <td>54.2</td>\n",
       "      <td>6.0622</td>\n",
       "      <td>3.0</td>\n",
       "      <td>222.0</td>\n",
       "      <td>18.7</td>\n",
       "      <td>396.90</td>\n",
       "      <td>5.33</td>\n",
       "      <td>36.2</td>\n",
       "    </tr>\n",
       "  </tbody>\n",
       "</table>\n",
       "</div>"
      ],
      "text/plain": [
       "      CRIM    ZN INDUS CHAS    NOX     RM   AGE     DIS  RAD    TAX PTRATIO  \\\n",
       "0  0.00632  18.0  2.31  0.0  0.538  6.575  65.2  4.0900  1.0  296.0    15.3   \n",
       "1  0.02731   0.0  7.07  0.0  0.469  6.421  78.9  4.9671  2.0  242.0    17.8   \n",
       "2  0.02729   0.0  7.07  0.0  0.469  7.185  61.1  4.9671  2.0  242.0    17.8   \n",
       "3  0.03237   0.0  2.18  0.0  0.458  6.998  45.8  6.0622  3.0  222.0    18.7   \n",
       "4  0.06905   0.0  2.18  0.0  0.458  7.147  54.2  6.0622  3.0  222.0    18.7   \n",
       "\n",
       "        B LSTAT house prices  \n",
       "0  396.90  4.98         24.0  \n",
       "1  396.90  9.14         21.6  \n",
       "2  392.83  4.03         34.7  \n",
       "3  394.63  2.94         33.4  \n",
       "4  396.90  5.33         36.2  "
      ]
     },
     "execution_count": 6,
     "metadata": {},
     "output_type": "execute_result"
    }
   ],
   "source": [
    "boston.head()"
   ]
  },
  {
   "cell_type": "code",
   "execution_count": 7,
   "id": "8988df9a",
   "metadata": {},
   "outputs": [
    {
     "data": {
      "text/plain": [
       "<AxesSubplot:xlabel=\"('AGE',)\", ylabel=\"('CRIM',)\">"
      ]
     },
     "execution_count": 7,
     "metadata": {},
     "output_type": "execute_result"
    },
    {
     "data": {
      "image/png": "[encoded data removed]",
      "text/plain": [
       "<Figure size 432x288 with 1 Axes>"
      ]
     },
     "metadata": {
      "needs_background": "light"
     },
     "output_type": "display_data"
    }
   ],
   "source": [
    "sns.regplot(y=boston['CRIM'] , x=boston['AGE'] )"
   ]
  },
  {
   "cell_type": "code",
   "execution_count": 8,
   "id": "5132faf3",
   "metadata": {},
   "outputs": [
    {
     "data": {
      "text/plain": [
       "<seaborn.axisgrid.FacetGrid at 0x1f21dc78640>"
      ]
     },
     "execution_count": 8,
     "metadata": {},
     "output_type": "execute_result"
    },
    {
     "data": {
      "text/plain": [
       "<Figure size 2880x2880 with 0 Axes>"
      ]
     },
     "metadata": {},
     "output_type": "display_data"
    },
    {
     "data": {
      "image/png": "[encoded data removed]",
      "text/plain": [
       "<Figure size 360x360 with 1 Axes>"
      ]
     },
     "metadata": {
      "needs_background": "light"
     },
     "output_type": "display_data"
    }
   ],
   "source": [
    "plt.figure(figsize=(40,40))\n",
    "sns.lmplot(y='CRIM' , x=\"AGE\" , data=boston )"
   ]
  },
  {
   "cell_type": "code",
   "execution_count": 9,
   "id": "437f8355",
   "metadata": {},
   "outputs": [
    {
     "data": {
      "text/plain": [
       "CRIM            504\n",
       "ZN               26\n",
       "INDUS            76\n",
       "CHAS              2\n",
       "NOX              81\n",
       "RM              446\n",
       "AGE             356\n",
       "DIS             412\n",
       "RAD               9\n",
       "TAX              66\n",
       "PTRATIO          46\n",
       "B               357\n",
       "LSTAT           455\n",
       "house prices    229\n",
       "dtype: int64"
      ]
     },
     "execution_count": 9,
     "metadata": {},
     "output_type": "execute_result"
    }
   ],
   "source": [
    "boston.nunique()"
   ]
  },
  {
   "cell_type": "code",
   "execution_count": 10,
   "id": "274c79e5",
   "metadata": {},
   "outputs": [
    {
     "data": {
      "text/plain": [
       "CRIM            0\n",
       "ZN              0\n",
       "INDUS           0\n",
       "CHAS            0\n",
       "NOX             0\n",
       "RM              0\n",
       "AGE             0\n",
       "DIS             0\n",
       "RAD             0\n",
       "TAX             0\n",
       "PTRATIO         0\n",
       "B               0\n",
       "LSTAT           0\n",
       "house prices    0\n",
       "dtype: int64"
      ]
     },
     "execution_count": 10,
     "metadata": {},
     "output_type": "execute_result"
    }
   ],
   "source": [
    "boston.isnull().sum()"
   ]
  },
  {
   "cell_type": "code",
   "execution_count": 11,
   "id": "7120039d",
   "metadata": {},
   "outputs": [
    {
     "data": {
      "text/html": [
       "<div>\n",
       "<style scoped>\n",
       "    .dataframe tbody tr th:only-of-type {\n",
       "        vertical-align: middle;\n",
       "    }\n",
       "\n",
       "    .dataframe tbody tr th {\n",
       "        vertical-align: top;\n",
       "    }\n",
       "\n",
       "    .dataframe thead tr th {\n",
       "        text-align: left;\n",
       "    }\n",
       "</style>\n",
       "<table border=\"1\" class=\"dataframe\">\n",
       "  <thead>\n",
       "    <tr>\n",
       "      <th></th>\n",
       "      <th>CRIM</th>\n",
       "      <th>ZN</th>\n",
       "      <th>INDUS</th>\n",
       "      <th>CHAS</th>\n",
       "      <th>NOX</th>\n",
       "      <th>RM</th>\n",
       "      <th>AGE</th>\n",
       "      <th>DIS</th>\n",
       "      <th>RAD</th>\n",
       "      <th>TAX</th>\n",
       "      <th>PTRATIO</th>\n",
       "      <th>B</th>\n",
       "      <th>LSTAT</th>\n",
       "      <th>house prices</th>\n",
       "    </tr>\n",
       "  </thead>\n",
       "  <tbody>\n",
       "  </tbody>\n",
       "</table>\n",
       "</div>"
      ],
      "text/plain": [
       "Empty DataFrame\n",
       "Columns: [(CRIM,), (ZN,), (INDUS,), (CHAS,), (NOX,), (RM,), (AGE,), (DIS,), (RAD,), (TAX,), (PTRATIO,), (B,), (LSTAT,), (house prices,)]\n",
       "Index: []"
      ]
     },
     "execution_count": 11,
     "metadata": {},
     "output_type": "execute_result"
    }
   ],
   "source": [
    "boston[boston.isnull().any(axis=1)]     # show where the null value is , axis = 1 means ROWS"
   ]
  },
  {
   "cell_type": "code",
   "execution_count": 12,
   "id": "34d230f2",
   "metadata": {},
   "outputs": [
    {
     "data": {
      "text/plain": [
       "<AxesSubplot:xlabel='None', ylabel='None'>"
      ]
     },
     "execution_count": 12,
     "metadata": {},
     "output_type": "execute_result"
    },
    {
     "data": {
      "image/png": "[encoded data removed]",
      "text/plain": [
       "<Figure size 1440x1440 with 2 Axes>"
      ]
     },
     "metadata": {
      "needs_background": "light"
     },
     "output_type": "display_data"
    }
   ],
   "source": [
    "cor=boston.corr()\n",
    "plt.figure(figsize=(20,20))\n",
    "sns.heatmap(cor , square=True ,annot=True)"
   ]
  },
  {
   "cell_type": "code",
   "execution_count": 13,
   "id": "07976970",
   "metadata": {},
   "outputs": [
    {
     "name": "stderr",
     "output_type": "stream",
     "text": [
      "C:\\Users\\souvi\\AppData\\Local\\Temp\\ipykernel_30420\\518281567.py:1: PerformanceWarning: dropping on a non-lexsorted multi-index without a level parameter may impact performance.\n",
      "  x = boston.drop('house prices' , axis=1)\n"
     ]
    }
   ],
   "source": [
    "x = boston.drop('house prices' , axis=1)\n",
    "y = boston['house prices']\n",
    "\n",
    "from sklearn.model_selection import train_test_split\n",
    "x_train , x_test , y_train , y_test = train_test_split(x,y,test_size=.3,random_state=4)\n"
   ]
  },
  {
   "cell_type": "code",
   "execution_count": 14,
   "id": "e82df892",
   "metadata": {},
   "outputs": [
    {
     "name": "stderr",
     "output_type": "stream",
     "text": [
      "C:\\Users\\souvi\\anaconda3\\lib\\site-packages\\sklearn\\utils\\validation.py:1688: FutureWarning: Feature names only support names that are all strings. Got feature names with dtypes: ['tuple']. An error will be raised in 1.2.\n",
      "  warnings.warn(\n"
     ]
    },
    {
     "data": {
      "text/plain": [
       "LinearRegression()"
      ]
     },
     "execution_count": 14,
     "metadata": {},
     "output_type": "execute_result"
    }
   ],
   "source": [
    "# LINEAR REGRESSION\n",
    "\n",
    "from sklearn.linear_model import LinearRegression\n",
    "lm = LinearRegression()\n",
    "lm.fit(x_train , y_train)  #train the model using training data"
   ]
  },
  {
   "cell_type": "code",
   "execution_count": 15,
   "id": "ccb8f628",
   "metadata": {},
   "outputs": [
    {
     "data": {
      "text/plain": [
       "array([36.35704138])"
      ]
     },
     "execution_count": 15,
     "metadata": {},
     "output_type": "execute_result"
    }
   ],
   "source": [
    "lm.intercept_            # value of y intercept"
   ]
  },
  {
   "cell_type": "code",
   "execution_count": null,
   "id": "6268774d",
   "metadata": {},
   "outputs": [],
   "source": []
  },
  {
   "cell_type": "code",
   "execution_count": 16,
   "id": "80700d52",
   "metadata": {},
   "outputs": [
    {
     "data": {
      "text/html": [
       "<div>\n",
       "<style scoped>\n",
       "    .dataframe tbody tr th:only-of-type {\n",
       "        vertical-align: middle;\n",
       "    }\n",
       "\n",
       "    .dataframe tbody tr th {\n",
       "        vertical-align: top;\n",
       "    }\n",
       "\n",
       "    .dataframe thead th {\n",
       "        text-align: right;\n",
       "    }\n",
       "</style>\n",
       "<table border=\"1\" class=\"dataframe\">\n",
       "  <thead>\n",
       "    <tr style=\"text-align: right;\">\n",
       "      <th></th>\n",
       "      <th>attribute</th>\n",
       "      <th>coefficients</th>\n",
       "    </tr>\n",
       "  </thead>\n",
       "  <tbody>\n",
       "    <tr>\n",
       "      <th>0</th>\n",
       "      <td>(CRIM,)</td>\n",
       "      <td>[-0.12256979473292123]</td>\n",
       "    </tr>\n",
       "    <tr>\n",
       "      <th>1</th>\n",
       "      <td>(ZN,)</td>\n",
       "      <td>[0.05567769959683249]</td>\n",
       "    </tr>\n",
       "    <tr>\n",
       "      <th>2</th>\n",
       "      <td>(INDUS,)</td>\n",
       "      <td>[-0.00883428230074687]</td>\n",
       "    </tr>\n",
       "    <tr>\n",
       "      <th>3</th>\n",
       "      <td>(CHAS,)</td>\n",
       "      <td>[4.693448486974741]</td>\n",
       "    </tr>\n",
       "    <tr>\n",
       "      <th>4</th>\n",
       "      <td>(NOX,)</td>\n",
       "      <td>[-14.435782767774592]</td>\n",
       "    </tr>\n",
       "    <tr>\n",
       "      <th>5</th>\n",
       "      <td>(RM,)</td>\n",
       "      <td>[3.2800803252777775]</td>\n",
       "    </tr>\n",
       "    <tr>\n",
       "      <th>6</th>\n",
       "      <td>(AGE,)</td>\n",
       "      <td>[-0.0034477815653828734]</td>\n",
       "    </tr>\n",
       "    <tr>\n",
       "      <th>7</th>\n",
       "      <td>(DIS,)</td>\n",
       "      <td>[-1.5521441903114432]</td>\n",
       "    </tr>\n",
       "    <tr>\n",
       "      <th>8</th>\n",
       "      <td>(RAD,)</td>\n",
       "      <td>[0.3262496181737417]</td>\n",
       "    </tr>\n",
       "    <tr>\n",
       "      <th>9</th>\n",
       "      <td>(TAX,)</td>\n",
       "      <td>[-0.014066550031720033]</td>\n",
       "    </tr>\n",
       "    <tr>\n",
       "      <th>10</th>\n",
       "      <td>(PTRATIO,)</td>\n",
       "      <td>[-0.8032749153179458]</td>\n",
       "    </tr>\n",
       "    <tr>\n",
       "      <th>11</th>\n",
       "      <td>(B,)</td>\n",
       "      <td>[0.009353687149615049]</td>\n",
       "    </tr>\n",
       "    <tr>\n",
       "      <th>12</th>\n",
       "      <td>(LSTAT,)</td>\n",
       "      <td>[-0.5234775286190915]</td>\n",
       "    </tr>\n",
       "  </tbody>\n",
       "</table>\n",
       "</div>"
      ],
      "text/plain": [
       "     attribute              coefficients\n",
       "0      (CRIM,)    [-0.12256979473292123]\n",
       "1        (ZN,)     [0.05567769959683249]\n",
       "2     (INDUS,)    [-0.00883428230074687]\n",
       "3      (CHAS,)       [4.693448486974741]\n",
       "4       (NOX,)     [-14.435782767774592]\n",
       "5        (RM,)      [3.2800803252777775]\n",
       "6       (AGE,)  [-0.0034477815653828734]\n",
       "7       (DIS,)     [-1.5521441903114432]\n",
       "8       (RAD,)      [0.3262496181737417]\n",
       "9       (TAX,)   [-0.014066550031720033]\n",
       "10  (PTRATIO,)     [-0.8032749153179458]\n",
       "11        (B,)    [0.009353687149615049]\n",
       "12    (LSTAT,)     [-0.5234775286190915]"
      ]
     },
     "execution_count": 16,
     "metadata": {},
     "output_type": "execute_result"
    }
   ],
   "source": [
    "coeff = pd.DataFrame([x_train.columns , lm.coef_.T]).T\n",
    "coeff = coeff.rename(columns = {0:'attribute' , 1:'coefficients'})\n",
    "coeff"
   ]
  },
  {
   "cell_type": "code",
   "execution_count": 17,
   "id": "6fe05693",
   "metadata": {},
   "outputs": [
    {
     "name": "stderr",
     "output_type": "stream",
     "text": [
      "C:\\Users\\souvi\\anaconda3\\lib\\site-packages\\sklearn\\utils\\validation.py:1688: FutureWarning: Feature names only support names that are all strings. Got feature names with dtypes: ['tuple']. An error will be raised in 1.2.\n",
      "  warnings.warn(\n"
     ]
    }
   ],
   "source": [
    "# Prediction model using training data\n",
    "y_pred = lm.predict(x_train)\n"
   ]
  },
  {
   "cell_type": "code",
   "execution_count": 18,
   "id": "9bc249db",
   "metadata": {},
   "outputs": [
    {
     "name": "stdout",
     "output_type": "stream",
     "text": [
      "R-sq:  0.7465991966746854\n",
      "adjusted R-sq:  0.736910342429894\n",
      "MAE: 3.08986109497113\n",
      "MSE: 19.07368870346903\n",
      "RMSE: 4.367343437774162\n"
     ]
    }
   ],
   "source": [
    "# Model evaluation\n",
    "from sklearn import metrics\n",
    "print('R-sq: ' , metrics.r2_score(y_train , y_pred))\n",
    "print('adjusted R-sq: ' , 1-(1-metrics.r2_score(y_train , y_pred)) * (len(y_train)-1)/(len(y_train)-x_train.shape[1]-1))\n",
    "print('MAE:',metrics.mean_absolute_error(y_train, y_pred))\n",
    "print('MSE:',metrics.mean_squared_error(y_train, y_pred))\n",
    "print('RMSE:',np.sqrt(metrics.mean_squared_error(y_train, y_pred)))"
   ]
  },
  {
   "cell_type": "code",
   "execution_count": null,
   "id": "e9490da7",
   "metadata": {},
   "outputs": [],
   "source": []
  },
  {
   "cell_type": "markdown",
   "id": "a30ddbe6",
   "metadata": {},
   "source": [
    "# LINEAR REGRESSION"
   ]
  },
  {
   "cell_type": "code",
   "execution_count": null,
   "id": "d714fa4a",
   "metadata": {},
   "outputs": [],
   "source": []
  },
  {
   "cell_type": "code",
   "execution_count": 19,
   "id": "3d4c4f60",
   "metadata": {},
   "outputs": [],
   "source": [
    "from sklearn import metrics\n",
    "from sklearn.linear_model import LinearRegression \n",
    "from sklearn.model_selection import train_test_split"
   ]
  },
  {
   "cell_type": "code",
   "execution_count": 20,
   "id": "0ab4e7ee",
   "metadata": {},
   "outputs": [
    {
     "name": "stderr",
     "output_type": "stream",
     "text": [
      "C:\\Users\\souvi\\AppData\\Local\\Temp\\ipykernel_30420\\3822808435.py:1: PerformanceWarning: dropping on a non-lexsorted multi-index without a level parameter may impact performance.\n",
      "  x = boston.drop('house prices' , axis = 1)\n"
     ]
    }
   ],
   "source": [
    "x = boston.drop('house prices' , axis = 1)\n",
    "x_train , x_test , y_train , y_test = train_test_split(x,y,test_size=.3,random_state=4)"
   ]
  },
  {
   "cell_type": "code",
   "execution_count": 21,
   "id": "dec840a4",
   "metadata": {},
   "outputs": [
    {
     "name": "stderr",
     "output_type": "stream",
     "text": [
      "C:\\Users\\souvi\\anaconda3\\lib\\site-packages\\sklearn\\utils\\validation.py:1688: FutureWarning: Feature names only support names that are all strings. Got feature names with dtypes: ['tuple']. An error will be raised in 1.2.\n",
      "  warnings.warn(\n"
     ]
    },
    {
     "data": {
      "text/plain": [
       "LinearRegression()"
      ]
     },
     "execution_count": 21,
     "metadata": {},
     "output_type": "execute_result"
    }
   ],
   "source": [
    "lm=LinearRegression()\n",
    "lm.fit(x_train , y_train)"
   ]
  },
  {
   "cell_type": "code",
   "execution_count": 22,
   "id": "a5f6cba7",
   "metadata": {},
   "outputs": [
    {
     "data": {
      "text/plain": [
       "array([36.35704138])"
      ]
     },
     "execution_count": 22,
     "metadata": {},
     "output_type": "execute_result"
    }
   ],
   "source": [
    "lm.intercept_"
   ]
  },
  {
   "cell_type": "code",
   "execution_count": 23,
   "id": "681ecd5c",
   "metadata": {},
   "outputs": [
    {
     "data": {
      "text/html": [
       "<div>\n",
       "<style scoped>\n",
       "    .dataframe tbody tr th:only-of-type {\n",
       "        vertical-align: middle;\n",
       "    }\n",
       "\n",
       "    .dataframe tbody tr th {\n",
       "        vertical-align: top;\n",
       "    }\n",
       "\n",
       "    .dataframe thead th {\n",
       "        text-align: right;\n",
       "    }\n",
       "</style>\n",
       "<table border=\"1\" class=\"dataframe\">\n",
       "  <thead>\n",
       "    <tr style=\"text-align: right;\">\n",
       "      <th></th>\n",
       "      <th>Covariate</th>\n",
       "      <th>intercept</th>\n",
       "    </tr>\n",
       "  </thead>\n",
       "  <tbody>\n",
       "    <tr>\n",
       "      <th>0</th>\n",
       "      <td>(CRIM,)</td>\n",
       "      <td>[-0.12256979473292123]</td>\n",
       "    </tr>\n",
       "    <tr>\n",
       "      <th>1</th>\n",
       "      <td>(ZN,)</td>\n",
       "      <td>[0.05567769959683249]</td>\n",
       "    </tr>\n",
       "    <tr>\n",
       "      <th>2</th>\n",
       "      <td>(INDUS,)</td>\n",
       "      <td>[-0.00883428230074687]</td>\n",
       "    </tr>\n",
       "    <tr>\n",
       "      <th>3</th>\n",
       "      <td>(CHAS,)</td>\n",
       "      <td>[4.693448486974741]</td>\n",
       "    </tr>\n",
       "    <tr>\n",
       "      <th>4</th>\n",
       "      <td>(NOX,)</td>\n",
       "      <td>[-14.435782767774592]</td>\n",
       "    </tr>\n",
       "    <tr>\n",
       "      <th>5</th>\n",
       "      <td>(RM,)</td>\n",
       "      <td>[3.2800803252777775]</td>\n",
       "    </tr>\n",
       "    <tr>\n",
       "      <th>6</th>\n",
       "      <td>(AGE,)</td>\n",
       "      <td>[-0.0034477815653828734]</td>\n",
       "    </tr>\n",
       "    <tr>\n",
       "      <th>7</th>\n",
       "      <td>(DIS,)</td>\n",
       "      <td>[-1.5521441903114432]</td>\n",
       "    </tr>\n",
       "    <tr>\n",
       "      <th>8</th>\n",
       "      <td>(RAD,)</td>\n",
       "      <td>[0.3262496181737417]</td>\n",
       "    </tr>\n",
       "    <tr>\n",
       "      <th>9</th>\n",
       "      <td>(TAX,)</td>\n",
       "      <td>[-0.014066550031720033]</td>\n",
       "    </tr>\n",
       "    <tr>\n",
       "      <th>10</th>\n",
       "      <td>(PTRATIO,)</td>\n",
       "      <td>[-0.8032749153179458]</td>\n",
       "    </tr>\n",
       "    <tr>\n",
       "      <th>11</th>\n",
       "      <td>(B,)</td>\n",
       "      <td>[0.009353687149615049]</td>\n",
       "    </tr>\n",
       "    <tr>\n",
       "      <th>12</th>\n",
       "      <td>(LSTAT,)</td>\n",
       "      <td>[-0.5234775286190915]</td>\n",
       "    </tr>\n",
       "  </tbody>\n",
       "</table>\n",
       "</div>"
      ],
      "text/plain": [
       "     Covariate                 intercept\n",
       "0      (CRIM,)    [-0.12256979473292123]\n",
       "1        (ZN,)     [0.05567769959683249]\n",
       "2     (INDUS,)    [-0.00883428230074687]\n",
       "3      (CHAS,)       [4.693448486974741]\n",
       "4       (NOX,)     [-14.435782767774592]\n",
       "5        (RM,)      [3.2800803252777775]\n",
       "6       (AGE,)  [-0.0034477815653828734]\n",
       "7       (DIS,)     [-1.5521441903114432]\n",
       "8       (RAD,)      [0.3262496181737417]\n",
       "9       (TAX,)   [-0.014066550031720033]\n",
       "10  (PTRATIO,)     [-0.8032749153179458]\n",
       "11        (B,)    [0.009353687149615049]\n",
       "12    (LSTAT,)     [-0.5234775286190915]"
      ]
     },
     "execution_count": 23,
     "metadata": {},
     "output_type": "execute_result"
    }
   ],
   "source": [
    "coef = pd.DataFrame([x_train.columns.T , lm.coef_.T]).T\n",
    "coef = coef.rename(columns = {0:'Covariate' , 1:'intercept'})\n",
    "coef"
   ]
  },
  {
   "cell_type": "code",
   "execution_count": 24,
   "id": "ab183e1c",
   "metadata": {},
   "outputs": [
    {
     "name": "stderr",
     "output_type": "stream",
     "text": [
      "C:\\Users\\souvi\\anaconda3\\lib\\site-packages\\sklearn\\utils\\validation.py:1688: FutureWarning: Feature names only support names that are all strings. Got feature names with dtypes: ['tuple']. An error will be raised in 1.2.\n",
      "  warnings.warn(\n"
     ]
    }
   ],
   "source": [
    "y_pred = lm.predict(x_train)"
   ]
  },
  {
   "cell_type": "code",
   "execution_count": 25,
   "id": "de7575ef",
   "metadata": {},
   "outputs": [
    {
     "name": "stdout",
     "output_type": "stream",
     "text": [
      "r-sq: 0.7465991966746854\n",
      "MSE: 19.07368870346903\n",
      "MAE: 3.08986109497113\n"
     ]
    }
   ],
   "source": [
    "print('r-sq:',metrics.r2_score(y_train , y_pred))\n",
    "print('MSE:',metrics.mean_squared_error(y_train , y_pred))\n",
    "print('MAE:',metrics.mean_absolute_error(y_pred , y_train))"
   ]
  },
  {
   "cell_type": "code",
   "execution_count": 26,
   "id": "21bcc556",
   "metadata": {},
   "outputs": [
    {
     "data": {
      "text/plain": [
       "Text(0.5, 1.0, 'predicted vs actual house prices')"
      ]
     },
     "execution_count": 26,
     "metadata": {},
     "output_type": "execute_result"
    },
    {
     "data": {
      "image/png": "[encoded data removed]",
      "text/plain": [
       "<Figure size 432x288 with 1 Axes>"
      ]
     },
     "metadata": {
      "needs_background": "light"
     },
     "output_type": "display_data"
    }
   ],
   "source": [
    "# predicted vs train scatterplot\n",
    "plt.scatter(y = y_pred , x = y_train , color = 'red')\n",
    "plt.xlabel('actual')\n",
    "plt.ylabel('predicted')\n",
    "plt.title('predicted vs actual house prices')"
   ]
  },
  {
   "cell_type": "code",
   "execution_count": 27,
   "id": "eea0fd73",
   "metadata": {},
   "outputs": [
    {
     "data": {
      "text/plain": [
       "Text(0, 0.5, 'residuals')"
      ]
     },
     "execution_count": 27,
     "metadata": {},
     "output_type": "execute_result"
    },
    {
     "data": {
      "image/png": "[encoded data removed]",
      "text/plain": [
       "<Figure size 432x288 with 1 Axes>"
      ]
     },
     "metadata": {
      "needs_background": "light"
     },
     "output_type": "display_data"
    }
   ],
   "source": [
    "# predicted vs residue scatterplot\n",
    "plt.scatter(x=y_pred , y=y_train-y_pred)\n",
    "plt.xlabel('predicted values')\n",
    "plt.ylabel('residuals')"
   ]
  },
  {
   "cell_type": "code",
   "execution_count": 28,
   "id": "302727f1",
   "metadata": {},
   "outputs": [
    {
     "data": {
      "text/plain": [
       "<AxesSubplot:ylabel=\"('house prices',)\">"
      ]
     },
     "execution_count": 28,
     "metadata": {},
     "output_type": "execute_result"
    },
    {
     "data": {
      "image/png": "[encoded data removed]",
      "text/plain": [
       "<Figure size 432x288 with 1 Axes>"
      ]
     },
     "metadata": {
      "needs_background": "light"
     },
     "output_type": "display_data"
    }
   ],
   "source": [
    "sns.residplot(x = y_pred , y = y_train)"
   ]
  },
  {
   "cell_type": "code",
   "execution_count": 29,
   "id": "40f91850",
   "metadata": {},
   "outputs": [
    {
     "name": "stderr",
     "output_type": "stream",
     "text": [
      "C:\\Users\\souvi\\anaconda3\\lib\\site-packages\\seaborn\\distributions.py:2619: FutureWarning: `distplot` is a deprecated function and will be removed in a future version. Please adapt your code to use either `displot` (a figure-level function with similar flexibility) or `histplot` (an axes-level function for histograms).\n",
      "  warnings.warn(msg, FutureWarning)\n"
     ]
    },
    {
     "data": {
      "text/plain": [
       "<AxesSubplot:ylabel='Density'>"
      ]
     },
     "execution_count": 29,
     "metadata": {},
     "output_type": "execute_result"
    },
    {
     "data": {
      "image/png": "[encoded data removed]",
      "text/plain": [
       "<Figure size 432x288 with 1 Axes>"
      ]
     },
     "metadata": {
      "needs_background": "light"
     },
     "output_type": "display_data"
    }
   ],
   "source": [
    "#checking normality of the residuals\n",
    "sns.distplot(y_train-y_pred , fit=norm)\n",
    "\n",
    "# ALMOST NORMALLY DISTRIBUTED, SO THE NORMALITY ASSUMPTION IS SATISFIED"
   ]
  },
  {
   "cell_type": "code",
   "execution_count": 30,
   "id": "0eb27735",
   "metadata": {},
   "outputs": [
    {
     "name": "stderr",
     "output_type": "stream",
     "text": [
      "C:\\Users\\souvi\\anaconda3\\lib\\site-packages\\sklearn\\utils\\validation.py:1688: FutureWarning: Feature names only support names that are all strings. Got feature names with dtypes: ['tuple']. An error will be raised in 1.2.\n",
      "  warnings.warn(\n"
     ]
    }
   ],
   "source": [
    "# Predicting Test data with the model\n",
    "y_test_pred = lm.predict(x_test)"
   ]
  },
  {
   "cell_type": "code",
   "execution_count": 31,
   "id": "0104ab3d",
   "metadata": {},
   "outputs": [
    {
     "name": "stdout",
     "output_type": "stream",
     "text": [
      "ALL THE CALCULATIONS IS FOR TESTING DATA , TO CHECK THE FITTING TYPE BY COMPARING WITH THE TRAINING DATA\n",
      "R-square:  0.7121818377409195\n",
      "adjusted R-square:  0.6850685326005713\n",
      "Adjusted R^2:         0.6850685326005713\n",
      "MSE:  30.053993307124127\n",
      "MAE:  3.8590055923707407\n"
     ]
    }
   ],
   "source": [
    "from sklearn import metrics\n",
    "print('ALL THE CALCULATIONS IS FOR TESTING DATA , TO CHECK THE FITTING TYPE BY COMPARING WITH THE TRAINING DATA')\n",
    "r_lin = metrics.r2_score(y_test , y_test_pred)\n",
    "print('R-square: ' , metrics.r2_score(y_test , y_test_pred))\n",
    "print('adjusted R-square: ',1-(1-metrics.r2_score(y_test , y_test_pred)) * (len(y_test)-1) / (len(y_test) -len(x_test.columns)-1))\n",
    "print('Adjusted R^2:        ',      1 - (1-metrics.r2_score(y_test, y_test_pred))*(len(y_test)-1)/(len(y_test)-x_test.shape[1]-1)) #same but different formula\n",
    "print('MSE: ' , metrics.mean_squared_error(y_test , y_test_pred))\n",
    "print('MAE: ' , metrics.mean_absolute_error(y_test , y_test_pred))"
   ]
  },
  {
   "cell_type": "code",
   "execution_count": null,
   "id": "856cfbe1",
   "metadata": {},
   "outputs": [],
   "source": []
  },
  {
   "cell_type": "code",
   "execution_count": 32,
   "id": "ccd6cf08",
   "metadata": {},
   "outputs": [],
   "source": [
    "from scipy.stats import norm , skew , kurtosis"
   ]
  },
  {
   "cell_type": "code",
   "execution_count": null,
   "id": "7fe95607",
   "metadata": {},
   "outputs": [],
   "source": []
  },
  {
   "cell_type": "code",
   "execution_count": null,
   "id": "d540673e",
   "metadata": {},
   "outputs": [],
   "source": []
  },
  {
   "cell_type": "code",
   "execution_count": 33,
   "id": "950b87da",
   "metadata": {},
   "outputs": [
    {
     "name": "stderr",
     "output_type": "stream",
     "text": [
      "C:\\Users\\souvi\\anaconda3\\lib\\site-packages\\seaborn\\distributions.py:2619: FutureWarning: `distplot` is a deprecated function and will be removed in a future version. Please adapt your code to use either `displot` (a figure-level function with similar flexibility) or `histplot` (an axes-level function for histograms).\n",
      "  warnings.warn(msg, FutureWarning)\n"
     ]
    },
    {
     "data": {
      "text/plain": [
       "<AxesSubplot:ylabel='Density'>"
      ]
     },
     "execution_count": 33,
     "metadata": {},
     "output_type": "execute_result"
    },
    {
     "data": {
      "image/png": "[encoded data removed]",
      "text/plain": [
       "<Figure size 432x288 with 4 Axes>"
      ]
     },
     "metadata": {
      "needs_background": "light"
     },
     "output_type": "display_data"
    }
   ],
   "source": [
    "figure , axis = plt.subplots(2,2)\n",
    "axis[0,0].scatter(y = y_pred , x = y_train , color = 'red')\n",
    "axis[0,1].scatter(y = y_test_pred , x = y_test , color = 'green')\n",
    "axis[1,0].scatter(y = y_pred , x = y_train - y_pred)\n",
    "sns.distplot(y_train-y_pred , fit = norm)"
   ]
  },
  {
   "cell_type": "code",
   "execution_count": 34,
   "id": "98ad02b6",
   "metadata": {},
   "outputs": [
    {
     "data": {
      "text/html": [
       "<div>\n",
       "<style scoped>\n",
       "    .dataframe tbody tr th:only-of-type {\n",
       "        vertical-align: middle;\n",
       "    }\n",
       "\n",
       "    .dataframe tbody tr th {\n",
       "        vertical-align: top;\n",
       "    }\n",
       "\n",
       "    .dataframe thead tr th {\n",
       "        text-align: left;\n",
       "    }\n",
       "</style>\n",
       "<table border=\"1\" class=\"dataframe\">\n",
       "  <thead>\n",
       "    <tr>\n",
       "      <th></th>\n",
       "      <th>CRIM</th>\n",
       "      <th>ZN</th>\n",
       "      <th>INDUS</th>\n",
       "      <th>CHAS</th>\n",
       "      <th>NOX</th>\n",
       "      <th>RM</th>\n",
       "      <th>AGE</th>\n",
       "      <th>DIS</th>\n",
       "      <th>RAD</th>\n",
       "      <th>TAX</th>\n",
       "      <th>PTRATIO</th>\n",
       "      <th>B</th>\n",
       "      <th>LSTAT</th>\n",
       "      <th>house prices</th>\n",
       "    </tr>\n",
       "  </thead>\n",
       "  <tbody>\n",
       "    <tr>\n",
       "      <th>0</th>\n",
       "      <td>0.00632</td>\n",
       "      <td>18.0</td>\n",
       "      <td>2.31</td>\n",
       "      <td>0.0</td>\n",
       "      <td>0.538</td>\n",
       "      <td>6.575</td>\n",
       "      <td>65.2</td>\n",
       "      <td>4.0900</td>\n",
       "      <td>1.0</td>\n",
       "      <td>296.0</td>\n",
       "      <td>15.3</td>\n",
       "      <td>396.90</td>\n",
       "      <td>4.98</td>\n",
       "      <td>24.0</td>\n",
       "    </tr>\n",
       "    <tr>\n",
       "      <th>1</th>\n",
       "      <td>0.02731</td>\n",
       "      <td>0.0</td>\n",
       "      <td>7.07</td>\n",
       "      <td>0.0</td>\n",
       "      <td>0.469</td>\n",
       "      <td>6.421</td>\n",
       "      <td>78.9</td>\n",
       "      <td>4.9671</td>\n",
       "      <td>2.0</td>\n",
       "      <td>242.0</td>\n",
       "      <td>17.8</td>\n",
       "      <td>396.90</td>\n",
       "      <td>9.14</td>\n",
       "      <td>21.6</td>\n",
       "    </tr>\n",
       "    <tr>\n",
       "      <th>2</th>\n",
       "      <td>0.02729</td>\n",
       "      <td>0.0</td>\n",
       "      <td>7.07</td>\n",
       "      <td>0.0</td>\n",
       "      <td>0.469</td>\n",
       "      <td>7.185</td>\n",
       "      <td>61.1</td>\n",
       "      <td>4.9671</td>\n",
       "      <td>2.0</td>\n",
       "      <td>242.0</td>\n",
       "      <td>17.8</td>\n",
       "      <td>392.83</td>\n",
       "      <td>4.03</td>\n",
       "      <td>34.7</td>\n",
       "    </tr>\n",
       "    <tr>\n",
       "      <th>3</th>\n",
       "      <td>0.03237</td>\n",
       "      <td>0.0</td>\n",
       "      <td>2.18</td>\n",
       "      <td>0.0</td>\n",
       "      <td>0.458</td>\n",
       "      <td>6.998</td>\n",
       "      <td>45.8</td>\n",
       "      <td>6.0622</td>\n",
       "      <td>3.0</td>\n",
       "      <td>222.0</td>\n",
       "      <td>18.7</td>\n",
       "      <td>394.63</td>\n",
       "      <td>2.94</td>\n",
       "      <td>33.4</td>\n",
       "    </tr>\n",
       "    <tr>\n",
       "      <th>4</th>\n",
       "      <td>0.06905</td>\n",
       "      <td>0.0</td>\n",
       "      <td>2.18</td>\n",
       "      <td>0.0</td>\n",
       "      <td>0.458</td>\n",
       "      <td>7.147</td>\n",
       "      <td>54.2</td>\n",
       "      <td>6.0622</td>\n",
       "      <td>3.0</td>\n",
       "      <td>222.0</td>\n",
       "      <td>18.7</td>\n",
       "      <td>396.90</td>\n",
       "      <td>5.33</td>\n",
       "      <td>36.2</td>\n",
       "    </tr>\n",
       "  </tbody>\n",
       "</table>\n",
       "</div>"
      ],
      "text/plain": [
       "      CRIM    ZN INDUS CHAS    NOX     RM   AGE     DIS  RAD    TAX PTRATIO  \\\n",
       "0  0.00632  18.0  2.31  0.0  0.538  6.575  65.2  4.0900  1.0  296.0    15.3   \n",
       "1  0.02731   0.0  7.07  0.0  0.469  6.421  78.9  4.9671  2.0  242.0    17.8   \n",
       "2  0.02729   0.0  7.07  0.0  0.469  7.185  61.1  4.9671  2.0  242.0    17.8   \n",
       "3  0.03237   0.0  2.18  0.0  0.458  6.998  45.8  6.0622  3.0  222.0    18.7   \n",
       "4  0.06905   0.0  2.18  0.0  0.458  7.147  54.2  6.0622  3.0  222.0    18.7   \n",
       "\n",
       "        B LSTAT house prices  \n",
       "0  396.90  4.98         24.0  \n",
       "1  396.90  9.14         21.6  \n",
       "2  392.83  4.03         34.7  \n",
       "3  394.63  2.94         33.4  \n",
       "4  396.90  5.33         36.2  "
      ]
     },
     "execution_count": 34,
     "metadata": {},
     "output_type": "execute_result"
    }
   ],
   "source": [
    "boston.head()"
   ]
  },
  {
   "cell_type": "markdown",
   "id": "42b08e0d",
   "metadata": {},
   "source": [
    "# RANDOM FOREST REGRESSOR"
   ]
  },
  {
   "cell_type": "code",
   "execution_count": 35,
   "id": "5156bfac",
   "metadata": {},
   "outputs": [],
   "source": [
    "from sklearn.model_selection import train_test_split"
   ]
  },
  {
   "cell_type": "code",
   "execution_count": 36,
   "id": "7839c6d5",
   "metadata": {},
   "outputs": [
    {
     "name": "stderr",
     "output_type": "stream",
     "text": [
      "C:\\Users\\souvi\\AppData\\Local\\Temp\\ipykernel_30420\\4071117914.py:1: PerformanceWarning: dropping on a non-lexsorted multi-index without a level parameter may impact performance.\n",
      "  x = boston.drop('house prices' , axis = 1)\n"
     ]
    }
   ],
   "source": [
    "x = boston.drop('house prices' , axis = 1)\n",
    "y = boston['house prices']\n",
    "x_train , x_test , y_train , y_test = train_test_split(x,y,test_size=.3 , random_state=4)"
   ]
  },
  {
   "cell_type": "code",
   "execution_count": 37,
   "id": "90953add",
   "metadata": {},
   "outputs": [
    {
     "name": "stderr",
     "output_type": "stream",
     "text": [
      "C:\\Users\\souvi\\anaconda3\\lib\\site-packages\\sklearn\\utils\\validation.py:1688: FutureWarning: Feature names only support names that are all strings. Got feature names with dtypes: ['tuple']. An error will be raised in 1.2.\n",
      "  warnings.warn(\n",
      "C:\\Users\\souvi\\AppData\\Local\\Temp\\ipykernel_30420\\3117656539.py:3: DataConversionWarning: A column-vector y was passed when a 1d array was expected. Please change the shape of y to (n_samples,), for example using ravel().\n",
      "  RfReg.fit(x_train , y_train)\n"
     ]
    },
    {
     "data": {
      "text/plain": [
       "RandomForestRegressor()"
      ]
     },
     "execution_count": 37,
     "metadata": {},
     "output_type": "execute_result"
    }
   ],
   "source": [
    "from sklearn.ensemble import RandomForestRegressor\n",
    "RfReg = RandomForestRegressor() \n",
    "RfReg.fit(x_train , y_train)"
   ]
  },
  {
   "cell_type": "code",
   "execution_count": 38,
   "id": "08b98217",
   "metadata": {},
   "outputs": [
    {
     "name": "stderr",
     "output_type": "stream",
     "text": [
      "C:\\Users\\souvi\\anaconda3\\lib\\site-packages\\sklearn\\utils\\validation.py:1688: FutureWarning: Feature names only support names that are all strings. Got feature names with dtypes: ['tuple']. An error will be raised in 1.2.\n",
      "  warnings.warn(\n"
     ]
    }
   ],
   "source": [
    "y_pred = RfReg.predict(x_train)"
   ]
  },
  {
   "cell_type": "code",
   "execution_count": 39,
   "id": "d31e66d7",
   "metadata": {},
   "outputs": [
    {
     "data": {
      "text/plain": [
       "Text(0.5, 1.0, 'predicted house prices vs actual house prices')"
      ]
     },
     "execution_count": 39,
     "metadata": {},
     "output_type": "execute_result"
    },
    {
     "data": {
      "image/png": "[encoded data removed]",
      "text/plain": [
       "<Figure size 432x288 with 1 Axes>"
      ]
     },
     "metadata": {
      "needs_background": "light"
     },
     "output_type": "display_data"
    }
   ],
   "source": [
    "sns.regplot(y = y_pred , x = y_train , line_kws={\"color\": \"red\"} , scatter_kws={'color' : 'green'})\n",
    "plt.xlabel('actual prices')\n",
    "plt.ylabel('predicted prices')\n",
    "plt.title('predicted house prices vs actual house prices')"
   ]
  },
  {
   "cell_type": "code",
   "execution_count": 40,
   "id": "36728e03",
   "metadata": {},
   "outputs": [],
   "source": [
    "from sklearn import metrics"
   ]
  },
  {
   "cell_type": "code",
   "execution_count": 41,
   "id": "33a35190",
   "metadata": {},
   "outputs": [
    {
     "name": "stdout",
     "output_type": "stream",
     "text": [
      "values regarding training data , using RANDOM FOREST\n",
      "R-sq:  0.9772028496479277\n",
      "adj R-sq:  0.9786383384125232\n",
      "MAE:  0.8455932203389831\n",
      "MSE:  1.5486951751412443\n",
      "RMSE:  1.2444658191936186\n"
     ]
    }
   ],
   "source": [
    "print('values regarding training data , using RANDOM FOREST')\n",
    "print('R-sq: ' , metrics.r2_score(y_pred , y_train))\n",
    "print('adj R-sq: ' , 1-(1-metrics.r2_score(y_train , y_pred)) * (len(y_train) - 1) / (len(y_train) - len(x_train.columns) - 1))\n",
    "print('MAE: ' , metrics.mean_absolute_error(y_train , y_pred))\n",
    "print('MSE: ' , metrics.mean_squared_error(y_train , y_pred))\n",
    "print('RMSE: ' , np.sqrt(metrics.mean_squared_error(y_train , y_pred)))"
   ]
  },
  {
   "cell_type": "code",
   "execution_count": null,
   "id": "59b0e9fa",
   "metadata": {},
   "outputs": [],
   "source": []
  },
  {
   "cell_type": "code",
   "execution_count": 42,
   "id": "a32f0321",
   "metadata": {},
   "outputs": [
    {
     "name": "stderr",
     "output_type": "stream",
     "text": [
      "C:\\Users\\souvi\\anaconda3\\lib\\site-packages\\sklearn\\utils\\validation.py:1688: FutureWarning: Feature names only support names that are all strings. Got feature names with dtypes: ['tuple']. An error will be raised in 1.2.\n",
      "  warnings.warn(\n"
     ]
    }
   ],
   "source": [
    "y_test_pred = RfReg.predict(x_test)"
   ]
  },
  {
   "cell_type": "code",
   "execution_count": 43,
   "id": "a943ede7",
   "metadata": {},
   "outputs": [
    {
     "name": "stdout",
     "output_type": "stream",
     "text": [
      "prdicting the testing data , with the help of the random forest model: \n",
      "R-sq:  0.8319228467296257\n",
      "adjusted R-square:  0.816089491711402\n",
      "MSE:  17.550628493421065\n"
     ]
    }
   ],
   "source": [
    "print('prdicting the testing data , with the help of the random forest model: ')\n",
    "r_rf = metrics.r2_score(y_test , y_test_pred)\n",
    "print('R-sq: ' , metrics.r2_score(y_test , y_test_pred))\n",
    "print('adjusted R-square: ' , 1-(1-metrics.r2_score(y_test , y_test_pred)) * (len(y_test) - 1) / (len(y_test) -x_test.shape[1] - 1))\n",
    "print('MSE: ' , metrics.mean_squared_error(y_test , y_test_pred))       #pattern = (actual , predicted)"
   ]
  },
  {
   "cell_type": "code",
   "execution_count": null,
   "id": "47bd86a8",
   "metadata": {},
   "outputs": [],
   "source": []
  },
  {
   "cell_type": "code",
   "execution_count": null,
   "id": "3d8ef5fa",
   "metadata": {},
   "outputs": [],
   "source": []
  },
  {
   "cell_type": "code",
   "execution_count": 46,
   "id": "ee208505",
   "metadata": {},
   "outputs": [
    {
     "name": "stderr",
     "output_type": "stream",
     "text": [
      "C:\\Users\\souvi\\anaconda3\\lib\\site-packages\\sklearn\\utils\\deprecation.py:87: FutureWarning: Function load_boston is deprecated; `load_boston` is deprecated in 1.0 and will be removed in 1.2.\n",
      "\n",
      "    The Boston housing prices dataset has an ethical problem. You can refer to\n",
      "    the documentation of this function for further details.\n",
      "\n",
      "    The scikit-learn maintainers therefore strongly discourage the use of this\n",
      "    dataset unless the purpose of the code is to study and educate about\n",
      "    ethical issues in data science and machine learning.\n",
      "\n",
      "    In this special case, you can fetch the dataset from the original\n",
      "    source::\n",
      "\n",
      "        import pandas as pd\n",
      "        import numpy as np\n",
      "\n",
      "\n",
      "        data_url = \"http://lib.stat.cmu.edu/datasets/boston\"\n",
      "        raw_df = pd.read_csv(data_url, sep=\"\\s+\", skiprows=22, header=None)\n",
      "        data = np.hstack([raw_df.values[::2, :], raw_df.values[1::2, :2]])\n",
      "        target = raw_df.values[1::2, 2]\n",
      "\n",
      "    Alternative datasets include the California housing dataset (i.e.\n",
      "    :func:`~sklearn.datasets.fetch_california_housing`) and the Ames housing\n",
      "    dataset. You can load the datasets as follows::\n",
      "\n",
      "        from sklearn.datasets import fetch_california_housing\n",
      "        housing = fetch_california_housing()\n",
      "\n",
      "    for the California housing dataset and::\n",
      "\n",
      "        from sklearn.datasets import fetch_openml\n",
      "        housing = fetch_openml(name=\"house_prices\", as_frame=True)\n",
      "\n",
      "    for the Ames housing dataset.\n",
      "    \n",
      "  warnings.warn(msg, category=FutureWarning)\n",
      "C:\\Users\\souvi\\anaconda3\\lib\\site-packages\\sklearn\\utils\\deprecation.py:87: FutureWarning: Function load_boston is deprecated; `load_boston` is deprecated in 1.0 and will be removed in 1.2.\n",
      "\n",
      "    The Boston housing prices dataset has an ethical problem. You can refer to\n",
      "    the documentation of this function for further details.\n",
      "\n",
      "    The scikit-learn maintainers therefore strongly discourage the use of this\n",
      "    dataset unless the purpose of the code is to study and educate about\n",
      "    ethical issues in data science and machine learning.\n",
      "\n",
      "    In this special case, you can fetch the dataset from the original\n",
      "    source::\n",
      "\n",
      "        import pandas as pd\n",
      "        import numpy as np\n",
      "\n",
      "\n",
      "        data_url = \"http://lib.stat.cmu.edu/datasets/boston\"\n",
      "        raw_df = pd.read_csv(data_url, sep=\"\\s+\", skiprows=22, header=None)\n",
      "        data = np.hstack([raw_df.values[::2, :], raw_df.values[1::2, :2]])\n",
      "        target = raw_df.values[1::2, 2]\n",
      "\n",
      "    Alternative datasets include the California housing dataset (i.e.\n",
      "    :func:`~sklearn.datasets.fetch_california_housing`) and the Ames housing\n",
      "    dataset. You can load the datasets as follows::\n",
      "\n",
      "        from sklearn.datasets import fetch_california_housing\n",
      "        housing = fetch_california_housing()\n",
      "\n",
      "    for the California housing dataset and::\n",
      "\n",
      "        from sklearn.datasets import fetch_openml\n",
      "        housing = fetch_openml(name=\"house_prices\", as_frame=True)\n",
      "\n",
      "    for the Ames housing dataset.\n",
      "    \n",
      "  warnings.warn(msg, category=FutureWarning)\n"
     ]
    },
    {
     "data": {
      "text/html": [
       "<div>\n",
       "<style scoped>\n",
       "    .dataframe tbody tr th:only-of-type {\n",
       "        vertical-align: middle;\n",
       "    }\n",
       "\n",
       "    .dataframe tbody tr th {\n",
       "        vertical-align: top;\n",
       "    }\n",
       "\n",
       "    .dataframe thead tr th {\n",
       "        text-align: left;\n",
       "    }\n",
       "</style>\n",
       "<table border=\"1\" class=\"dataframe\">\n",
       "  <thead>\n",
       "    <tr>\n",
       "      <th></th>\n",
       "      <th>CRIM</th>\n",
       "      <th>ZN</th>\n",
       "      <th>INDUS</th>\n",
       "      <th>CHAS</th>\n",
       "      <th>NOX</th>\n",
       "      <th>RM</th>\n",
       "      <th>AGE</th>\n",
       "      <th>DIS</th>\n",
       "      <th>RAD</th>\n",
       "      <th>TAX</th>\n",
       "      <th>PTRATIO</th>\n",
       "      <th>B</th>\n",
       "      <th>LSTAT</th>\n",
       "      <th>house prices</th>\n",
       "    </tr>\n",
       "  </thead>\n",
       "  <tbody>\n",
       "    <tr>\n",
       "      <th>0</th>\n",
       "      <td>0.00632</td>\n",
       "      <td>18.0</td>\n",
       "      <td>2.31</td>\n",
       "      <td>0.0</td>\n",
       "      <td>0.538</td>\n",
       "      <td>6.575</td>\n",
       "      <td>65.2</td>\n",
       "      <td>4.0900</td>\n",
       "      <td>1.0</td>\n",
       "      <td>296.0</td>\n",
       "      <td>15.3</td>\n",
       "      <td>396.90</td>\n",
       "      <td>4.98</td>\n",
       "      <td>24.0</td>\n",
       "    </tr>\n",
       "    <tr>\n",
       "      <th>1</th>\n",
       "      <td>0.02731</td>\n",
       "      <td>0.0</td>\n",
       "      <td>7.07</td>\n",
       "      <td>0.0</td>\n",
       "      <td>0.469</td>\n",
       "      <td>6.421</td>\n",
       "      <td>78.9</td>\n",
       "      <td>4.9671</td>\n",
       "      <td>2.0</td>\n",
       "      <td>242.0</td>\n",
       "      <td>17.8</td>\n",
       "      <td>396.90</td>\n",
       "      <td>9.14</td>\n",
       "      <td>21.6</td>\n",
       "    </tr>\n",
       "    <tr>\n",
       "      <th>2</th>\n",
       "      <td>0.02729</td>\n",
       "      <td>0.0</td>\n",
       "      <td>7.07</td>\n",
       "      <td>0.0</td>\n",
       "      <td>0.469</td>\n",
       "      <td>7.185</td>\n",
       "      <td>61.1</td>\n",
       "      <td>4.9671</td>\n",
       "      <td>2.0</td>\n",
       "      <td>242.0</td>\n",
       "      <td>17.8</td>\n",
       "      <td>392.83</td>\n",
       "      <td>4.03</td>\n",
       "      <td>34.7</td>\n",
       "    </tr>\n",
       "    <tr>\n",
       "      <th>3</th>\n",
       "      <td>0.03237</td>\n",
       "      <td>0.0</td>\n",
       "      <td>2.18</td>\n",
       "      <td>0.0</td>\n",
       "      <td>0.458</td>\n",
       "      <td>6.998</td>\n",
       "      <td>45.8</td>\n",
       "      <td>6.0622</td>\n",
       "      <td>3.0</td>\n",
       "      <td>222.0</td>\n",
       "      <td>18.7</td>\n",
       "      <td>394.63</td>\n",
       "      <td>2.94</td>\n",
       "      <td>33.4</td>\n",
       "    </tr>\n",
       "    <tr>\n",
       "      <th>4</th>\n",
       "      <td>0.06905</td>\n",
       "      <td>0.0</td>\n",
       "      <td>2.18</td>\n",
       "      <td>0.0</td>\n",
       "      <td>0.458</td>\n",
       "      <td>7.147</td>\n",
       "      <td>54.2</td>\n",
       "      <td>6.0622</td>\n",
       "      <td>3.0</td>\n",
       "      <td>222.0</td>\n",
       "      <td>18.7</td>\n",
       "      <td>396.90</td>\n",
       "      <td>5.33</td>\n",
       "      <td>36.2</td>\n",
       "    </tr>\n",
       "  </tbody>\n",
       "</table>\n",
       "</div>"
      ],
      "text/plain": [
       "      CRIM    ZN INDUS CHAS    NOX     RM   AGE     DIS  RAD    TAX PTRATIO  \\\n",
       "0  0.00632  18.0  2.31  0.0  0.538  6.575  65.2  4.0900  1.0  296.0    15.3   \n",
       "1  0.02731   0.0  7.07  0.0  0.469  6.421  78.9  4.9671  2.0  242.0    17.8   \n",
       "2  0.02729   0.0  7.07  0.0  0.469  7.185  61.1  4.9671  2.0  242.0    17.8   \n",
       "3  0.03237   0.0  2.18  0.0  0.458  6.998  45.8  6.0622  3.0  222.0    18.7   \n",
       "4  0.06905   0.0  2.18  0.0  0.458  7.147  54.2  6.0622  3.0  222.0    18.7   \n",
       "\n",
       "        B LSTAT house prices  \n",
       "0  396.90  4.98         24.0  \n",
       "1  396.90  9.14         21.6  \n",
       "2  392.83  4.03         34.7  \n",
       "3  394.63  2.94         33.4  \n",
       "4  396.90  5.33         36.2  "
      ]
     },
     "execution_count": 46,
     "metadata": {},
     "output_type": "execute_result"
    }
   ],
   "source": [
    "# again importing the dataset\n",
    "from sklearn.datasets import load_boston\n",
    "data = pd.DataFrame(load_boston().data,columns=[load_boston().feature_names])\n",
    "data['house prices'] = load_boston().target\n",
    "data.head()"
   ]
  },
  {
   "cell_type": "code",
   "execution_count": 47,
   "id": "b21dd142",
   "metadata": {},
   "outputs": [
    {
     "name": "stderr",
     "output_type": "stream",
     "text": [
      "C:\\Users\\souvi\\AppData\\Local\\Temp\\ipykernel_9380\\2055187789.py:1: PerformanceWarning: dropping on a non-lexsorted multi-index without a level parameter may impact performance.\n",
      "  x = data.drop('house prices' , axis = 1)\n"
     ]
    }
   ],
   "source": [
    "x = data.drop('house prices' , axis = 1)\n",
    "y = data['house prices']"
   ]
  },
  {
   "cell_type": "code",
   "execution_count": 48,
   "id": "312e9e80",
   "metadata": {},
   "outputs": [],
   "source": [
    "import matplotlib.pyplot as plt"
   ]
  },
  {
   "cell_type": "code",
   "execution_count": null,
   "id": "a7deb439",
   "metadata": {},
   "outputs": [],
   "source": []
  },
  {
   "cell_type": "markdown",
   "id": "8599aca4",
   "metadata": {},
   "source": [
    "# XGBOOST REGRESSOR"
   ]
  },
  {
   "cell_type": "code",
   "execution_count": 49,
   "id": "99c1b705",
   "metadata": {},
   "outputs": [
    {
     "name": "stdout",
     "output_type": "stream",
     "text": [
      "Requirement already satisfied: xgboost in c:\\users\\souvi\\anaconda3\\lib\\site-packages (1.7.2)\n",
      "Requirement already satisfied: numpy in c:\\users\\souvi\\anaconda3\\lib\\site-packages (from xgboost) (1.21.5)\n",
      "Requirement already satisfied: scipy in c:\\users\\souvi\\anaconda3\\lib\\site-packages (from xgboost) (1.7.3)\n"
     ]
    }
   ],
   "source": [
    "# importing XGBOOST library\n",
    "!pip install xgboost"
   ]
  },
  {
   "cell_type": "code",
   "execution_count": 50,
   "id": "b8a4c1ac",
   "metadata": {},
   "outputs": [],
   "source": [
    "from xgboost import XGBRegressor"
   ]
  },
  {
   "cell_type": "code",
   "execution_count": 51,
   "id": "fe257318",
   "metadata": {},
   "outputs": [],
   "source": [
    "XgReg = XGBRegressor()"
   ]
  },
  {
   "cell_type": "code",
   "execution_count": 52,
   "id": "5d98f9fb",
   "metadata": {},
   "outputs": [],
   "source": [
    "from sklearn.model_selection import train_test_split \n",
    "\n",
    "x_train , x_test , y_train , y_test = train_test_split(x , y , test_size = 0.3)"
   ]
  },
  {
   "cell_type": "code",
   "execution_count": 53,
   "id": "e2572681",
   "metadata": {},
   "outputs": [
    {
     "data": {
      "text/plain": [
       "XGBRegressor(base_score=0.5, booster='gbtree', callbacks=None,\n",
       "             colsample_bylevel=1, colsample_bynode=1, colsample_bytree=1,\n",
       "             early_stopping_rounds=None, enable_categorical=False,\n",
       "             eval_metric=None, feature_types=None, gamma=0, gpu_id=-1,\n",
       "             grow_policy='depthwise', importance_type=None,\n",
       "             interaction_constraints='', learning_rate=0.300000012, max_bin=256,\n",
       "             max_cat_threshold=64, max_cat_to_onehot=4, max_delta_step=0,\n",
       "             max_depth=6, max_leaves=0, min_child_weight=1, missing=nan,\n",
       "             monotone_constraints='()', n_estimators=100, n_jobs=0,\n",
       "             num_parallel_tree=1, predictor='auto', random_state=0, ...)"
      ]
     },
     "execution_count": 53,
     "metadata": {},
     "output_type": "execute_result"
    }
   ],
   "source": [
    "XgReg.fit(x_train , y_train)"
   ]
  },
  {
   "cell_type": "code",
   "execution_count": 54,
   "id": "5dd12229",
   "metadata": {},
   "outputs": [],
   "source": [
    "y_pred =  XgReg.predict(x_train)"
   ]
  },
  {
   "cell_type": "code",
   "execution_count": 55,
   "id": "a845fb4d",
   "metadata": {},
   "outputs": [
    {
     "data": {
      "text/plain": [
       "<matplotlib.collections.PathCollection at 0x1fffeaeabe0>"
      ]
     },
     "execution_count": 55,
     "metadata": {},
     "output_type": "execute_result"
    },
    {
     "data": {
      "image/png": "[encoded data removed]",
      "text/plain": [
       "<Figure size 432x288 with 1 Axes>"
      ]
     },
     "metadata": {
      "needs_background": "light"
     },
     "output_type": "display_data"
    }
   ],
   "source": [
    "plt.scatter(y_train , y_pred)"
   ]
  },
  {
   "cell_type": "code",
   "execution_count": 56,
   "id": "7ad68ce8",
   "metadata": {},
   "outputs": [
    {
     "data": {
      "text/plain": [
       "0.00021701521375612506"
      ]
     },
     "execution_count": 56,
     "metadata": {},
     "output_type": "execute_result"
    }
   ],
   "source": [
    "from sklearn import metrics\n",
    "metrics.mean_squared_error(y_train , y_pred)"
   ]
  },
  {
   "cell_type": "code",
   "execution_count": 57,
   "id": "cd9ad472",
   "metadata": {},
   "outputs": [
    {
     "data": {
      "text/plain": [
       "0.010027904833777537"
      ]
     },
     "execution_count": 57,
     "metadata": {},
     "output_type": "execute_result"
    }
   ],
   "source": [
    "metrics.mean_absolute_error(y_train , y_pred)"
   ]
  },
  {
   "cell_type": "code",
   "execution_count": 58,
   "id": "3a1d2805",
   "metadata": {},
   "outputs": [
    {
     "name": "stdout",
     "output_type": "stream",
     "text": [
      "[23.5]\n"
     ]
    },
    {
     "data": {
      "text/plain": [
       "23.49691"
      ]
     },
     "execution_count": 58,
     "metadata": {},
     "output_type": "execute_result"
    }
   ],
   "source": [
    "a = np.array(y_train)\n",
    "print(a[200])\n",
    "y_pred[200]"
   ]
  },
  {
   "cell_type": "code",
   "execution_count": 59,
   "id": "4856b292",
   "metadata": {},
   "outputs": [
    {
     "data": {
      "text/plain": [
       "0    0\n",
       "dtype: int64"
      ]
     },
     "execution_count": 59,
     "metadata": {},
     "output_type": "execute_result"
    }
   ],
   "source": [
    "pd.DataFrame(y_pred).isnull().sum()"
   ]
  },
  {
   "cell_type": "code",
   "execution_count": 60,
   "id": "1a22f8b1",
   "metadata": {},
   "outputs": [
    {
     "data": {
      "text/plain": [
       "<AxesSubplot:ylabel=\"('house prices',)\">"
      ]
     },
     "execution_count": 60,
     "metadata": {},
     "output_type": "execute_result"
    },
    {
     "data": {
      "image/png": "[encoded data removed]",
      "text/plain": [
       "<Figure size 432x288 with 1 Axes>"
      ]
     },
     "metadata": {
      "needs_background": "light"
     },
     "output_type": "display_data"
    }
   ],
   "source": [
    "sns.residplot(x = y_pred , y = y_train)"
   ]
  },
  {
   "cell_type": "code",
   "execution_count": 61,
   "id": "8733a61d",
   "metadata": {},
   "outputs": [],
   "source": [
    "# comparing with testing data\n",
    "y_test_pred = XgReg.predict(x_test)"
   ]
  },
  {
   "cell_type": "code",
   "execution_count": 62,
   "id": "f2a425e9",
   "metadata": {},
   "outputs": [
    {
     "name": "stdout",
     "output_type": "stream",
     "text": [
      "rsq:  0.8833174265675888\n",
      "MSE:  10.118757564389478\n",
      "MAE:  2.3142020106315613\n",
      "adjusted rsq:  0.872325589939898\n"
     ]
    }
   ],
   "source": [
    "r_xgb = metrics.r2_score(y_test , y_test_pred)\n",
    "\n",
    "print('rsq: ' , metrics.r2_score(y_test , y_test_pred))\n",
    "print('MSE: ' , metrics.mean_squared_error(y_test , y_test_pred))\n",
    "print('MAE: ' , metrics.mean_absolute_error(y_test , y_test_pred))\n",
    "print('adjusted rsq: ' , 1-(1-metrics.r2_score(y_test , y_test_pred)) * (len(y_test)-1) / (len(y_test) - len(x_test.columns) - 1))"
   ]
  },
  {
   "cell_type": "code",
   "execution_count": null,
   "id": "1f5a6357",
   "metadata": {},
   "outputs": [],
   "source": []
  },
  {
   "cell_type": "markdown",
   "id": "39dc1e1b",
   "metadata": {},
   "source": [
    "# SVM regressor"
   ]
  },
  {
   "cell_type": "code",
   "execution_count": 63,
   "id": "cf8985ef",
   "metadata": {},
   "outputs": [],
   "source": [
    "from sklearn.preprocessing import StandardScaler     # just standarised the training and testing values , for good prediction"
   ]
  },
  {
   "cell_type": "code",
   "execution_count": 64,
   "id": "641f9590",
   "metadata": {},
   "outputs": [],
   "source": [
    "sc = StandardScaler()"
   ]
  },
  {
   "cell_type": "code",
   "execution_count": 65,
   "id": "2e0745c0",
   "metadata": {},
   "outputs": [
    {
     "name": "stderr",
     "output_type": "stream",
     "text": [
      "C:\\Users\\souvi\\anaconda3\\lib\\site-packages\\sklearn\\utils\\validation.py:1688: FutureWarning: Feature names only support names that are all strings. Got feature names with dtypes: ['tuple']. An error will be raised in 1.2.\n",
      "  warnings.warn(\n",
      "C:\\Users\\souvi\\anaconda3\\lib\\site-packages\\sklearn\\utils\\validation.py:1688: FutureWarning: Feature names only support names that are all strings. Got feature names with dtypes: ['tuple']. An error will be raised in 1.2.\n",
      "  warnings.warn(\n",
      "C:\\Users\\souvi\\anaconda3\\lib\\site-packages\\sklearn\\utils\\validation.py:1688: FutureWarning: Feature names only support names that are all strings. Got feature names with dtypes: ['tuple']. An error will be raised in 1.2.\n",
      "  warnings.warn(\n",
      "C:\\Users\\souvi\\anaconda3\\lib\\site-packages\\sklearn\\utils\\validation.py:1688: FutureWarning: Feature names only support names that are all strings. Got feature names with dtypes: ['tuple']. An error will be raised in 1.2.\n",
      "  warnings.warn(\n"
     ]
    }
   ],
   "source": [
    "x_train = sc.fit_transform(x_train)\n",
    "x_test = sc.fit_transform(x_test)       #x_train, x_test are no longer a data frame , these have become ndarray now"
   ]
  },
  {
   "cell_type": "code",
   "execution_count": 66,
   "id": "0e761da3",
   "metadata": {},
   "outputs": [],
   "source": [
    "from sklearn.svm import SVR"
   ]
  },
  {
   "cell_type": "code",
   "execution_count": 67,
   "id": "6409f874",
   "metadata": {},
   "outputs": [],
   "source": [
    "svm = SVR()"
   ]
  },
  {
   "cell_type": "code",
   "execution_count": 68,
   "id": "e28afce6",
   "metadata": {},
   "outputs": [
    {
     "name": "stderr",
     "output_type": "stream",
     "text": [
      "C:\\Users\\souvi\\anaconda3\\lib\\site-packages\\sklearn\\utils\\validation.py:993: DataConversionWarning: A column-vector y was passed when a 1d array was expected. Please change the shape of y to (n_samples, ), for example using ravel().\n",
      "  y = column_or_1d(y, warn=True)\n"
     ]
    },
    {
     "data": {
      "text/plain": [
       "SVR()"
      ]
     },
     "execution_count": 68,
     "metadata": {},
     "output_type": "execute_result"
    }
   ],
   "source": [
    "svm.fit(x_train , y_train)                   # fitting the SVM regression model in the standarised data"
   ]
  },
  {
   "cell_type": "code",
   "execution_count": 69,
   "id": "40f659fc",
   "metadata": {},
   "outputs": [],
   "source": [
    "y_pred = svm.predict(x_train)"
   ]
  },
  {
   "cell_type": "code",
   "execution_count": 70,
   "id": "2775b957",
   "metadata": {},
   "outputs": [
    {
     "name": "stderr",
     "output_type": "stream",
     "text": [
      "C:\\Users\\souvi\\anaconda3\\lib\\site-packages\\seaborn\\_decorators.py:36: FutureWarning: Pass the following variables as keyword args: x, y. From version 0.12, the only valid positional argument will be `data`, and passing other arguments without an explicit keyword will result in an error or misinterpretation.\n",
      "  warnings.warn(\n"
     ]
    },
    {
     "data": {
      "text/plain": [
       "Text(0.5, 1.0, 'SVM- predicted vs actual prices')"
      ]
     },
     "execution_count": 70,
     "metadata": {},
     "output_type": "execute_result"
    },
    {
     "data": {
      "image/png": "[encoded data removed]",
      "text/plain": [
       "<Figure size 432x288 with 1 Axes>"
      ]
     },
     "metadata": {
      "needs_background": "light"
     },
     "output_type": "display_data"
    }
   ],
   "source": [
    "sns.regplot(y_train , y_pred , line_kws = {'color':'green'})\n",
    "plt.xlabel('actual')\n",
    "plt.ylabel('predicted')\n",
    "plt.title('SVM- predicted vs actual prices')"
   ]
  },
  {
   "cell_type": "code",
   "execution_count": 71,
   "id": "93af2820",
   "metadata": {},
   "outputs": [
    {
     "name": "stderr",
     "output_type": "stream",
     "text": [
      "C:\\Users\\souvi\\anaconda3\\lib\\site-packages\\seaborn\\_decorators.py:36: FutureWarning: Pass the following variables as keyword args: x, y. From version 0.12, the only valid positional argument will be `data`, and passing other arguments without an explicit keyword will result in an error or misinterpretation.\n",
      "  warnings.warn(\n"
     ]
    },
    {
     "data": {
      "text/plain": [
       "<AxesSubplot:ylabel=\"('house prices',)\">"
      ]
     },
     "execution_count": 71,
     "metadata": {},
     "output_type": "execute_result"
    },
    {
     "data": {
      "image/png": "[encoded data removed]",
      "text/plain": [
       "<Figure size 432x288 with 1 Axes>"
      ]
     },
     "metadata": {
      "needs_background": "light"
     },
     "output_type": "display_data"
    }
   ],
   "source": [
    "sns.residplot(y_pred , y_train)"
   ]
  },
  {
   "cell_type": "code",
   "execution_count": 72,
   "id": "9e8d784b",
   "metadata": {},
   "outputs": [],
   "source": [
    "# building the svm model for testing data\n",
    "y_test_pred = svm.predict(x_test)"
   ]
  },
  {
   "cell_type": "code",
   "execution_count": 73,
   "id": "48d951ab",
   "metadata": {},
   "outputs": [
    {
     "name": "stdout",
     "output_type": "stream",
     "text": [
      "r2 :  0.6760895048378417\n",
      "adjusted r2 :  0.6637046917875239\n",
      "MSE :  27.003962161057068\n",
      "MAE :  2.9700423585774653\n",
      "RMSE :  5.196533667846007\n"
     ]
    }
   ],
   "source": [
    "from sklearn import metrics\n",
    "\n",
    "# printing features from training data\n",
    "print('r2 : ' , metrics.r2_score(y_train , y_pred))\n",
    "print('adjusted r2 : ' , 1-(1-metrics.r2_score(y_train , y_pred)) * (len(y_train) - 1) / (len(y_train) -x_train.shape[1]-1))\n",
    "print('MSE : ' , metrics.mean_squared_error(y_train , y_pred))\n",
    "print('MAE : ' , metrics.mean_absolute_error(y_train , y_pred))\n",
    "print('RMSE : ' , np.sqrt(metrics.mean_squared_error(y_train , y_pred)))"
   ]
  },
  {
   "cell_type": "code",
   "execution_count": 74,
   "id": "bbb62d1b",
   "metadata": {},
   "outputs": [
    {
     "name": "stdout",
     "output_type": "stream",
     "text": [
      "r2 :  0.6162724765221992\n",
      "adjusted r2 :  0.5801242315568991\n",
      "MSE :  33.276998155209455\n",
      "MAE :  3.198205298946229\n",
      "RMSE :  5.768621859266688\n"
     ]
    }
   ],
   "source": [
    "# printing features from testing data\n",
    "r_svm = metrics.r2_score(y_test , y_test_pred)\n",
    "print('r2 : ' , metrics.r2_score(y_test , y_test_pred))\n",
    "print('adjusted r2 : ' , 1-(1-metrics.r2_score(y_test , y_test_pred)) * (len(y_test) - 1) / (len(y_test) -x_test.shape[1]-1))\n",
    "print('MSE : ' , metrics.mean_squared_error(y_test , y_test_pred))\n",
    "print('MAE : ' , metrics.mean_absolute_error(y_test , y_test_pred))\n",
    "print('RMSE : ' , np.sqrt(metrics.mean_squared_error(y_test , y_test_pred)))"
   ]
  },
  {
   "cell_type": "code",
   "execution_count": null,
   "id": "13bd1293",
   "metadata": {},
   "outputs": [],
   "source": []
  },
  {
   "cell_type": "markdown",
   "id": "4854a4f8",
   "metadata": {},
   "source": [
    "# comparing the models"
   ]
  },
  {
   "cell_type": "code",
   "execution_count": 75,
   "id": "2bf1cd06",
   "metadata": {},
   "outputs": [],
   "source": [
    "models = pd.DataFrame({'model name' : ['linear' , 'random_forest' , 'xgboost' , 'svm regressor'] , 'R-sq score _ test' : [r_lin*100 , r_rf*100 , r_xgb*100 , r_svm*100]})"
   ]
  },
  {
   "cell_type": "code",
   "execution_count": 258,
   "id": "df161be1",
   "metadata": {},
   "outputs": [
    {
     "data": {
      "text/html": [
       "<div>\n",
       "<style scoped>\n",
       "    .dataframe tbody tr th:only-of-type {\n",
       "        vertical-align: middle;\n",
       "    }\n",
       "\n",
       "    .dataframe tbody tr th {\n",
       "        vertical-align: top;\n",
       "    }\n",
       "\n",
       "    .dataframe thead th {\n",
       "        text-align: right;\n",
       "    }\n",
       "</style>\n",
       "<table border=\"1\" class=\"dataframe\">\n",
       "  <thead>\n",
       "    <tr style=\"text-align: right;\">\n",
       "      <th></th>\n",
       "      <th>model name</th>\n",
       "      <th>R-sq score _ test</th>\n",
       "    </tr>\n",
       "  </thead>\n",
       "  <tbody>\n",
       "    <tr>\n",
       "      <th>0</th>\n",
       "      <td>linear</td>\n",
       "      <td>71.218184</td>\n",
       "    </tr>\n",
       "    <tr>\n",
       "      <th>1</th>\n",
       "      <td>random_forest</td>\n",
       "      <td>82.422434</td>\n",
       "    </tr>\n",
       "    <tr>\n",
       "      <th>2</th>\n",
       "      <td>xgboost</td>\n",
       "      <td>84.766005</td>\n",
       "    </tr>\n",
       "    <tr>\n",
       "      <th>3</th>\n",
       "      <td>svm regressor</td>\n",
       "      <td>65.617736</td>\n",
       "    </tr>\n",
       "  </tbody>\n",
       "</table>\n",
       "</div>"
      ],
      "text/plain": [
       "      model name  R-sq score _ test\n",
       "0         linear          71.218184\n",
       "1  random_forest          82.422434\n",
       "2        xgboost          84.766005\n",
       "3  svm regressor          65.617736"
      ]
     },
     "execution_count": 258,
     "metadata": {},
     "output_type": "execute_result"
    }
   ],
   "source": [
    "models"
   ]
  },
  {
   "cell_type": "code",
   "execution_count": null,
   "id": "1027babb",
   "metadata": {},
   "outputs": [],
   "source": [
    " #############################################CONCLUSION ############################################################\n",
    "    ##############################################################################################################\n",
    "        ######## so we can see that random_forest regressor is the best among these four regressor ########"
   ]
  },
  {
   "cell_type": "code",
   "execution_count": null,
   "id": "4c067d7f",
   "metadata": {},
   "outputs": [],
   "source": []
  },
  {
   "cell_type": "code",
   "execution_count": null,
   "id": "8764cf8e",
   "metadata": {},
   "outputs": [],
   "source": []
  },
  {
   "cell_type": "code",
   "execution_count": 4,
   "id": "a196e9c6",
   "metadata": {},
   "outputs": [],
   "source": [
    "############################################################################"
   ]
  },
  {
   "cell_type": "code",
   "execution_count": 5,
   "id": "1018e5e7",
   "metadata": {},
   "outputs": [
    {
     "data": {
      "text/html": [
       "<div>\n",
       "<style scoped>\n",
       "    .dataframe tbody tr th:only-of-type {\n",
       "        vertical-align: middle;\n",
       "    }\n",
       "\n",
       "    .dataframe tbody tr th {\n",
       "        vertical-align: top;\n",
       "    }\n",
       "\n",
       "    .dataframe thead th {\n",
       "        text-align: right;\n",
       "    }\n",
       "</style>\n",
       "<table border=\"1\" class=\"dataframe\">\n",
       "  <thead>\n",
       "    <tr style=\"text-align: right;\">\n",
       "      <th></th>\n",
       "      <th>age</th>\n",
       "      <th>sex</th>\n",
       "      <th>bmi</th>\n",
       "      <th>bp</th>\n",
       "      <th>s1</th>\n",
       "      <th>s2</th>\n",
       "      <th>s3</th>\n",
       "      <th>s4</th>\n",
       "      <th>s5</th>\n",
       "      <th>s6</th>\n",
       "    </tr>\n",
       "  </thead>\n",
       "  <tbody>\n",
       "    <tr>\n",
       "      <th>0</th>\n",
       "      <td>0.038076</td>\n",
       "      <td>0.050680</td>\n",
       "      <td>0.061696</td>\n",
       "      <td>0.021872</td>\n",
       "      <td>-0.044223</td>\n",
       "      <td>-0.034821</td>\n",
       "      <td>-0.043401</td>\n",
       "      <td>-0.002592</td>\n",
       "      <td>0.019908</td>\n",
       "      <td>-0.017646</td>\n",
       "    </tr>\n",
       "    <tr>\n",
       "      <th>1</th>\n",
       "      <td>-0.001882</td>\n",
       "      <td>-0.044642</td>\n",
       "      <td>-0.051474</td>\n",
       "      <td>-0.026328</td>\n",
       "      <td>-0.008449</td>\n",
       "      <td>-0.019163</td>\n",
       "      <td>0.074412</td>\n",
       "      <td>-0.039493</td>\n",
       "      <td>-0.068330</td>\n",
       "      <td>-0.092204</td>\n",
       "    </tr>\n",
       "    <tr>\n",
       "      <th>2</th>\n",
       "      <td>0.085299</td>\n",
       "      <td>0.050680</td>\n",
       "      <td>0.044451</td>\n",
       "      <td>-0.005671</td>\n",
       "      <td>-0.045599</td>\n",
       "      <td>-0.034194</td>\n",
       "      <td>-0.032356</td>\n",
       "      <td>-0.002592</td>\n",
       "      <td>0.002864</td>\n",
       "      <td>-0.025930</td>\n",
       "    </tr>\n",
       "    <tr>\n",
       "      <th>3</th>\n",
       "      <td>-0.089063</td>\n",
       "      <td>-0.044642</td>\n",
       "      <td>-0.011595</td>\n",
       "      <td>-0.036656</td>\n",
       "      <td>0.012191</td>\n",
       "      <td>0.024991</td>\n",
       "      <td>-0.036038</td>\n",
       "      <td>0.034309</td>\n",
       "      <td>0.022692</td>\n",
       "      <td>-0.009362</td>\n",
       "    </tr>\n",
       "    <tr>\n",
       "      <th>4</th>\n",
       "      <td>0.005383</td>\n",
       "      <td>-0.044642</td>\n",
       "      <td>-0.036385</td>\n",
       "      <td>0.021872</td>\n",
       "      <td>0.003935</td>\n",
       "      <td>0.015596</td>\n",
       "      <td>0.008142</td>\n",
       "      <td>-0.002592</td>\n",
       "      <td>-0.031991</td>\n",
       "      <td>-0.046641</td>\n",
       "    </tr>\n",
       "  </tbody>\n",
       "</table>\n",
       "</div>"
      ],
      "text/plain": [
       "        age       sex       bmi        bp        s1        s2        s3  \\\n",
       "0  0.038076  0.050680  0.061696  0.021872 -0.044223 -0.034821 -0.043401   \n",
       "1 -0.001882 -0.044642 -0.051474 -0.026328 -0.008449 -0.019163  0.074412   \n",
       "2  0.085299  0.050680  0.044451 -0.005671 -0.045599 -0.034194 -0.032356   \n",
       "3 -0.089063 -0.044642 -0.011595 -0.036656  0.012191  0.024991 -0.036038   \n",
       "4  0.005383 -0.044642 -0.036385  0.021872  0.003935  0.015596  0.008142   \n",
       "\n",
       "         s4        s5        s6  \n",
       "0 -0.002592  0.019908 -0.017646  \n",
       "1 -0.039493 -0.068330 -0.092204  \n",
       "2 -0.002592  0.002864 -0.025930  \n",
       "3  0.034309  0.022692 -0.009362  \n",
       "4 -0.002592 -0.031991 -0.046641  "
      ]
     },
     "execution_count": 5,
     "metadata": {},
     "output_type": "execute_result"
    }
   ],
   "source": [
    "data.head()"
   ]
  },
  {
   "cell_type": "code",
   "execution_count": 7,
   "id": "fa5cc8ab",
   "metadata": {},
   "outputs": [],
   "source": [
    "X = data['age']\n",
    "y = data['sex']"
   ]
  },
  {
   "cell_type": "code",
   "execution_count": 9,
   "id": "36bb4b00",
   "metadata": {},
   "outputs": [],
   "source": [
    "from sklearn.preprocessing import StandardScaler\n",
    "sc = StandardScaler()"
   ]
  },
  {
   "cell_type": "code",
   "execution_count": 18,
   "id": "a323d76d",
   "metadata": {
    "scrolled": true,
    "tags": []
   },
   "outputs": [
    {
     "data": {
      "text/plain": [
       "array([[ 1.06548848],\n",
       "       [-0.93853666],\n",
       "       [ 1.06548848],\n",
       "       [-0.93853666],\n",
       "       [-0.93853666],\n",
       "       [-0.93853666],\n",
       "       [ 1.06548848],\n",
       "       [ 1.06548848],\n",
       "       [ 1.06548848],\n",
       "       [-0.93853666],\n",
       "       [-0.93853666],\n",
       "       [ 1.06548848],\n",
       "       [-0.93853666],\n",
       "       [ 1.06548848],\n",
       "       [-0.93853666],\n",
       "       [ 1.06548848],\n",
       "       [-0.93853666],\n",
       "       [ 1.06548848],\n",
       "       [-0.93853666],\n",
       "       [-0.93853666],\n",
       "       [-0.93853666],\n",
       "       [ 1.06548848],\n",
       "       [-0.93853666],\n",
       "       [ 1.06548848],\n",
       "       [-0.93853666],\n",
       "       [ 1.06548848],\n",
       "       [-0.93853666],\n",
       "       [-0.93853666],\n",
       "       [-0.93853666],\n",
       "       [ 1.06548848],\n",
       "       [-0.93853666],\n",
       "       [-0.93853666],\n",
       "       [ 1.06548848],\n",
       "       [-0.93853666],\n",
       "       [-0.93853666],\n",
       "       [ 1.06548848],\n",
       "       [-0.93853666],\n",
       "       [-0.93853666],\n",
       "       [ 1.06548848],\n",
       "       [ 1.06548848],\n",
       "       [ 1.06548848],\n",
       "       [-0.93853666],\n",
       "       [ 1.06548848],\n",
       "       [-0.93853666],\n",
       "       [ 1.06548848],\n",
       "       [ 1.06548848],\n",
       "       [-0.93853666],\n",
       "       [-0.93853666],\n",
       "       [ 1.06548848],\n",
       "       [ 1.06548848],\n",
       "       [-0.93853666],\n",
       "       [ 1.06548848],\n",
       "       [-0.93853666],\n",
       "       [-0.93853666],\n",
       "       [-0.93853666],\n",
       "       [-0.93853666],\n",
       "       [-0.93853666],\n",
       "       [-0.93853666],\n",
       "       [-0.93853666],\n",
       "       [ 1.06548848],\n",
       "       [-0.93853666],\n",
       "       [ 1.06548848],\n",
       "       [ 1.06548848],\n",
       "       [-0.93853666],\n",
       "       [ 1.06548848],\n",
       "       [ 1.06548848],\n",
       "       [ 1.06548848],\n",
       "       [ 1.06548848],\n",
       "       [ 1.06548848],\n",
       "       [-0.93853666],\n",
       "       [-0.93853666],\n",
       "       [-0.93853666],\n",
       "       [ 1.06548848],\n",
       "       [ 1.06548848],\n",
       "       [ 1.06548848],\n",
       "       [ 1.06548848],\n",
       "       [ 1.06548848],\n",
       "       [-0.93853666],\n",
       "       [-0.93853666],\n",
       "       [-0.93853666],\n",
       "       [-0.93853666],\n",
       "       [ 1.06548848],\n",
       "       [-0.93853666],\n",
       "       [-0.93853666],\n",
       "       [-0.93853666],\n",
       "       [-0.93853666],\n",
       "       [ 1.06548848],\n",
       "       [-0.93853666],\n",
       "       [ 1.06548848],\n",
       "       [-0.93853666],\n",
       "       [-0.93853666],\n",
       "       [-0.93853666],\n",
       "       [-0.93853666],\n",
       "       [-0.93853666],\n",
       "       [-0.93853666],\n",
       "       [-0.93853666],\n",
       "       [ 1.06548848],\n",
       "       [-0.93853666],\n",
       "       [ 1.06548848],\n",
       "       [-0.93853666],\n",
       "       [-0.93853666],\n",
       "       [ 1.06548848],\n",
       "       [-0.93853666],\n",
       "       [ 1.06548848],\n",
       "       [-0.93853666],\n",
       "       [ 1.06548848],\n",
       "       [-0.93853666],\n",
       "       [-0.93853666],\n",
       "       [ 1.06548848],\n",
       "       [ 1.06548848],\n",
       "       [ 1.06548848],\n",
       "       [-0.93853666],\n",
       "       [-0.93853666],\n",
       "       [ 1.06548848],\n",
       "       [-0.93853666],\n",
       "       [ 1.06548848],\n",
       "       [ 1.06548848],\n",
       "       [-0.93853666],\n",
       "       [ 1.06548848],\n",
       "       [-0.93853666],\n",
       "       [-0.93853666],\n",
       "       [-0.93853666],\n",
       "       [ 1.06548848],\n",
       "       [ 1.06548848],\n",
       "       [-0.93853666],\n",
       "       [ 1.06548848],\n",
       "       [-0.93853666],\n",
       "       [ 1.06548848],\n",
       "       [-0.93853666],\n",
       "       [-0.93853666],\n",
       "       [ 1.06548848],\n",
       "       [-0.93853666],\n",
       "       [ 1.06548848],\n",
       "       [ 1.06548848],\n",
       "       [-0.93853666],\n",
       "       [-0.93853666],\n",
       "       [-0.93853666],\n",
       "       [-0.93853666],\n",
       "       [ 1.06548848],\n",
       "       [-0.93853666],\n",
       "       [ 1.06548848],\n",
       "       [-0.93853666],\n",
       "       [ 1.06548848],\n",
       "       [-0.93853666],\n",
       "       [ 1.06548848],\n",
       "       [-0.93853666],\n",
       "       [ 1.06548848],\n",
       "       [-0.93853666],\n",
       "       [ 1.06548848],\n",
       "       [ 1.06548848],\n",
       "       [-0.93853666],\n",
       "       [-0.93853666],\n",
       "       [ 1.06548848],\n",
       "       [ 1.06548848],\n",
       "       [ 1.06548848],\n",
       "       [ 1.06548848],\n",
       "       [-0.93853666],\n",
       "       [ 1.06548848],\n",
       "       [-0.93853666],\n",
       "       [-0.93853666],\n",
       "       [-0.93853666],\n",
       "       [ 1.06548848],\n",
       "       [-0.93853666],\n",
       "       [ 1.06548848],\n",
       "       [-0.93853666],\n",
       "       [-0.93853666],\n",
       "       [ 1.06548848],\n",
       "       [-0.93853666],\n",
       "       [ 1.06548848],\n",
       "       [-0.93853666],\n",
       "       [ 1.06548848],\n",
       "       [-0.93853666],\n",
       "       [ 1.06548848],\n",
       "       [ 1.06548848],\n",
       "       [ 1.06548848],\n",
       "       [-0.93853666],\n",
       "       [ 1.06548848],\n",
       "       [-0.93853666],\n",
       "       [-0.93853666],\n",
       "       [-0.93853666],\n",
       "       [ 1.06548848],\n",
       "       [-0.93853666],\n",
       "       [ 1.06548848],\n",
       "       [ 1.06548848],\n",
       "       [-0.93853666],\n",
       "       [ 1.06548848],\n",
       "       [ 1.06548848],\n",
       "       [-0.93853666],\n",
       "       [-0.93853666],\n",
       "       [-0.93853666],\n",
       "       [-0.93853666],\n",
       "       [ 1.06548848],\n",
       "       [ 1.06548848],\n",
       "       [ 1.06548848],\n",
       "       [-0.93853666],\n",
       "       [ 1.06548848],\n",
       "       [-0.93853666],\n",
       "       [ 1.06548848],\n",
       "       [-0.93853666],\n",
       "       [-0.93853666],\n",
       "       [-0.93853666],\n",
       "       [ 1.06548848],\n",
       "       [ 1.06548848],\n",
       "       [ 1.06548848],\n",
       "       [ 1.06548848],\n",
       "       [-0.93853666],\n",
       "       [ 1.06548848],\n",
       "       [-0.93853666],\n",
       "       [-0.93853666],\n",
       "       [ 1.06548848],\n",
       "       [-0.93853666],\n",
       "       [-0.93853666],\n",
       "       [-0.93853666],\n",
       "       [-0.93853666],\n",
       "       [-0.93853666],\n",
       "       [ 1.06548848],\n",
       "       [ 1.06548848],\n",
       "       [-0.93853666],\n",
       "       [-0.93853666],\n",
       "       [-0.93853666],\n",
       "       [ 1.06548848],\n",
       "       [-0.93853666],\n",
       "       [ 1.06548848],\n",
       "       [-0.93853666],\n",
       "       [-0.93853666],\n",
       "       [ 1.06548848],\n",
       "       [ 1.06548848],\n",
       "       [ 1.06548848],\n",
       "       [-0.93853666],\n",
       "       [ 1.06548848],\n",
       "       [ 1.06548848],\n",
       "       [-0.93853666],\n",
       "       [ 1.06548848],\n",
       "       [-0.93853666],\n",
       "       [-0.93853666],\n",
       "       [ 1.06548848],\n",
       "       [-0.93853666],\n",
       "       [-0.93853666],\n",
       "       [ 1.06548848],\n",
       "       [-0.93853666],\n",
       "       [ 1.06548848],\n",
       "       [ 1.06548848],\n",
       "       [ 1.06548848],\n",
       "       [ 1.06548848],\n",
       "       [ 1.06548848],\n",
       "       [-0.93853666],\n",
       "       [-0.93853666],\n",
       "       [-0.93853666],\n",
       "       [-0.93853666],\n",
       "       [-0.93853666],\n",
       "       [-0.93853666],\n",
       "       [ 1.06548848],\n",
       "       [-0.93853666],\n",
       "       [-0.93853666],\n",
       "       [ 1.06548848],\n",
       "       [-0.93853666],\n",
       "       [-0.93853666],\n",
       "       [ 1.06548848],\n",
       "       [ 1.06548848],\n",
       "       [-0.93853666],\n",
       "       [-0.93853666],\n",
       "       [-0.93853666],\n",
       "       [ 1.06548848],\n",
       "       [ 1.06548848],\n",
       "       [ 1.06548848],\n",
       "       [ 1.06548848],\n",
       "       [ 1.06548848],\n",
       "       [-0.93853666],\n",
       "       [ 1.06548848],\n",
       "       [-0.93853666],\n",
       "       [ 1.06548848],\n",
       "       [ 1.06548848],\n",
       "       [-0.93853666],\n",
       "       [ 1.06548848],\n",
       "       [-0.93853666],\n",
       "       [ 1.06548848],\n",
       "       [-0.93853666],\n",
       "       [-0.93853666],\n",
       "       [ 1.06548848],\n",
       "       [ 1.06548848],\n",
       "       [ 1.06548848],\n",
       "       [ 1.06548848],\n",
       "       [-0.93853666],\n",
       "       [-0.93853666],\n",
       "       [ 1.06548848],\n",
       "       [-0.93853666],\n",
       "       [-0.93853666],\n",
       "       [-0.93853666],\n",
       "       [ 1.06548848],\n",
       "       [ 1.06548848],\n",
       "       [ 1.06548848],\n",
       "       [-0.93853666],\n",
       "       [-0.93853666],\n",
       "       [-0.93853666],\n",
       "       [ 1.06548848],\n",
       "       [ 1.06548848],\n",
       "       [-0.93853666],\n",
       "       [-0.93853666],\n",
       "       [ 1.06548848],\n",
       "       [ 1.06548848],\n",
       "       [-0.93853666],\n",
       "       [ 1.06548848],\n",
       "       [-0.93853666],\n",
       "       [-0.93853666],\n",
       "       [ 1.06548848],\n",
       "       [ 1.06548848],\n",
       "       [ 1.06548848],\n",
       "       [ 1.06548848],\n",
       "       [-0.93853666],\n",
       "       [ 1.06548848],\n",
       "       [-0.93853666],\n",
       "       [-0.93853666],\n",
       "       [-0.93853666],\n",
       "       [ 1.06548848],\n",
       "       [-0.93853666],\n",
       "       [-0.93853666],\n",
       "       [ 1.06548848],\n",
       "       [-0.93853666],\n",
       "       [-0.93853666],\n",
       "       [-0.93853666],\n",
       "       [-0.93853666],\n",
       "       [-0.93853666],\n",
       "       [ 1.06548848],\n",
       "       [ 1.06548848],\n",
       "       [-0.93853666],\n",
       "       [-0.93853666],\n",
       "       [ 1.06548848],\n",
       "       [-0.93853666],\n",
       "       [-0.93853666],\n",
       "       [ 1.06548848],\n",
       "       [ 1.06548848],\n",
       "       [ 1.06548848],\n",
       "       [-0.93853666],\n",
       "       [ 1.06548848],\n",
       "       [ 1.06548848],\n",
       "       [-0.93853666],\n",
       "       [-0.93853666],\n",
       "       [ 1.06548848],\n",
       "       [-0.93853666],\n",
       "       [-0.93853666],\n",
       "       [-0.93853666],\n",
       "       [ 1.06548848],\n",
       "       [ 1.06548848],\n",
       "       [-0.93853666],\n",
       "       [-0.93853666],\n",
       "       [ 1.06548848],\n",
       "       [ 1.06548848],\n",
       "       [ 1.06548848],\n",
       "       [-0.93853666],\n",
       "       [ 1.06548848],\n",
       "       [ 1.06548848],\n",
       "       [ 1.06548848],\n",
       "       [ 1.06548848],\n",
       "       [-0.93853666],\n",
       "       [ 1.06548848],\n",
       "       [ 1.06548848],\n",
       "       [ 1.06548848],\n",
       "       [ 1.06548848],\n",
       "       [-0.93853666],\n",
       "       [ 1.06548848],\n",
       "       [-0.93853666],\n",
       "       [-0.93853666],\n",
       "       [ 1.06548848],\n",
       "       [ 1.06548848],\n",
       "       [ 1.06548848],\n",
       "       [-0.93853666],\n",
       "       [ 1.06548848],\n",
       "       [ 1.06548848],\n",
       "       [ 1.06548848],\n",
       "       [-0.93853666],\n",
       "       [-0.93853666],\n",
       "       [ 1.06548848],\n",
       "       [ 1.06548848],\n",
       "       [-0.93853666],\n",
       "       [-0.93853666],\n",
       "       [ 1.06548848],\n",
       "       [-0.93853666],\n",
       "       [ 1.06548848],\n",
       "       [ 1.06548848],\n",
       "       [-0.93853666],\n",
       "       [-0.93853666],\n",
       "       [ 1.06548848],\n",
       "       [-0.93853666],\n",
       "       [ 1.06548848],\n",
       "       [ 1.06548848],\n",
       "       [ 1.06548848],\n",
       "       [-0.93853666],\n",
       "       [-0.93853666],\n",
       "       [ 1.06548848],\n",
       "       [ 1.06548848],\n",
       "       [ 1.06548848],\n",
       "       [-0.93853666],\n",
       "       [ 1.06548848],\n",
       "       [-0.93853666],\n",
       "       [-0.93853666],\n",
       "       [-0.93853666],\n",
       "       [ 1.06548848],\n",
       "       [-0.93853666],\n",
       "       [-0.93853666],\n",
       "       [ 1.06548848],\n",
       "       [-0.93853666],\n",
       "       [-0.93853666],\n",
       "       [ 1.06548848],\n",
       "       [-0.93853666],\n",
       "       [-0.93853666],\n",
       "       [ 1.06548848],\n",
       "       [-0.93853666],\n",
       "       [-0.93853666],\n",
       "       [-0.93853666],\n",
       "       [ 1.06548848],\n",
       "       [ 1.06548848],\n",
       "       [-0.93853666],\n",
       "       [-0.93853666],\n",
       "       [-0.93853666],\n",
       "       [ 1.06548848],\n",
       "       [-0.93853666],\n",
       "       [-0.93853666],\n",
       "       [-0.93853666],\n",
       "       [-0.93853666],\n",
       "       [-0.93853666],\n",
       "       [-0.93853666],\n",
       "       [ 1.06548848],\n",
       "       [ 1.06548848],\n",
       "       [ 1.06548848],\n",
       "       [ 1.06548848],\n",
       "       [-0.93853666],\n",
       "       [ 1.06548848],\n",
       "       [ 1.06548848],\n",
       "       [ 1.06548848],\n",
       "       [-0.93853666],\n",
       "       [-0.93853666],\n",
       "       [ 1.06548848],\n",
       "       [-0.93853666],\n",
       "       [-0.93853666],\n",
       "       [-0.93853666],\n",
       "       [-0.93853666],\n",
       "       [-0.93853666],\n",
       "       [ 1.06548848],\n",
       "       [ 1.06548848],\n",
       "       [ 1.06548848],\n",
       "       [-0.93853666],\n",
       "       [-0.93853666]])"
      ]
     },
     "execution_count": 18,
     "metadata": {},
     "output_type": "execute_result"
    }
   ],
   "source": [
    "X = np.array(X)\n",
    "X = sc.fit_transform(X.reshape(len(X),1))\n",
    "X\n",
    "\n",
    "y = np.array(y)\n",
    "y = sc.fit_transform(y.reshape(-1 , 1))\n",
    "y"
   ]
  },
  {
   "cell_type": "code",
   "execution_count": 25,
   "id": "c6638682",
   "metadata": {},
   "outputs": [],
   "source": [
    "from sklearn.model_selection import train_test_split\n",
    "X_train , X_test , y_train , y_test = train_test_split(X , y , test_size = .2  )                                                "
   ]
  },
  {
   "cell_type": "code",
   "execution_count": 28,
   "id": "61b56456",
   "metadata": {},
   "outputs": [
    {
     "name": "stderr",
     "output_type": "stream",
     "text": [
      "C:\\Users\\souvi\\anaconda3\\lib\\site-packages\\sklearn\\utils\\validation.py:993: DataConversionWarning: A column-vector y was passed when a 1d array was expected. Please change the shape of y to (n_samples, ), for example using ravel().\n",
      "  y = column_or_1d(y, warn=True)\n"
     ]
    }
   ],
   "source": [
    "from sklearn.svm import SVR\n",
    "svr= SVR(kernel='rbf')\n",
    "\n",
    "svr.fit(X_train , y_train)\n",
    "\n",
    "y_pred = svr.predict(X_test)"
   ]
  },
  {
   "cell_type": "code",
   "execution_count": 29,
   "id": "ff6777fc",
   "metadata": {},
   "outputs": [
    {
     "data": {
      "text/plain": [
       "<matplotlib.collections.PathCollection at 0x22471ebafa0>"
      ]
     },
     "execution_count": 29,
     "metadata": {},
     "output_type": "execute_result"
    },
    {
     "data": {
      "image/png": "[encoded data removed]",
      "text/plain": [
       "<Figure size 432x288 with 1 Axes>"
      ]
     },
     "metadata": {
      "needs_background": "light"
     },
     "output_type": "display_data"
    }
   ],
   "source": []
  },
  {
   "cell_type": "code",
   "execution_count": 87,
   "id": "8f7063b9",
   "metadata": {},
   "outputs": [],
   "source": [
    "price = boston['house prices']\n",
    "price = np.array(price).reshape(-1,1)\n",
    "age = boston['AGE']\n",
    "age = np.array(age).reshape(-1,1)\n",
    "from sklearn.svm import SVR\n",
    "reg = SVR(kernel='rbf')\n",
    "\n",
    "from sklearn.preprocessing import StandardScaler\n",
    "sc_x = StandardScaler()\n",
    "sc_y = StandardScaler()\n",
    "price = sc_x.fit_transform(price)\n",
    "age = sc_y.fit_transform(age)\n"
   ]
  },
  {
   "cell_type": "code",
   "execution_count": 88,
   "id": "6ff47ff8",
   "metadata": {},
   "outputs": [],
   "source": [
    "from sklearn.model_selection import train_test_split"
   ]
  },
  {
   "cell_type": "code",
   "execution_count": 89,
   "id": "7e762aa4",
   "metadata": {},
   "outputs": [],
   "source": [
    "X_train , X_test , y_train , y_test = train_test_split(age , price , test_size=.2)"
   ]
  },
  {
   "cell_type": "code",
   "execution_count": 90,
   "id": "7da7b58d",
   "metadata": {},
   "outputs": [
    {
     "name": "stderr",
     "output_type": "stream",
     "text": [
      "C:\\Users\\souvi\\anaconda3\\lib\\site-packages\\sklearn\\utils\\validation.py:993: DataConversionWarning: A column-vector y was passed when a 1d array was expected. Please change the shape of y to (n_samples, ), for example using ravel().\n",
      "  y = column_or_1d(y, warn=True)\n"
     ]
    },
    {
     "data": {
      "text/plain": [
       "numpy.ndarray"
      ]
     },
     "execution_count": 90,
     "metadata": {},
     "output_type": "execute_result"
    }
   ],
   "source": [
    "from sklearn.svm import SVR\n",
    "reg = SVR(kernel='rbf')\n",
    "\n",
    "reg.fit(X_train , y_train)\n",
    "\n",
    "y_pred = reg.predict(X_test)\n",
    "type(y_test)"
   ]
  },
  {
   "cell_type": "code",
   "execution_count": 91,
   "id": "53aff2c1",
   "metadata": {},
   "outputs": [],
   "source": [
    "y_test = sc_y.inverse_transform(y_test.reshape(-1,1))\n",
    "y_pred = sc_y.inverse_transform(y_pred.reshape(-1,1))\n",
    "result1 = pd.DataFrame({'actual values':y_test.reshape(-1) , 'svm predicted values' : y_pred.reshape(-1)})"
   ]
  },
  {
   "cell_type": "code",
   "execution_count": 92,
   "id": "1dcb771b",
   "metadata": {},
   "outputs": [
    {
     "data": {
      "text/html": [
       "<div>\n",
       "<style scoped>\n",
       "    .dataframe tbody tr th:only-of-type {\n",
       "        vertical-align: middle;\n",
       "    }\n",
       "\n",
       "    .dataframe tbody tr th {\n",
       "        vertical-align: top;\n",
       "    }\n",
       "\n",
       "    .dataframe thead th {\n",
       "        text-align: right;\n",
       "    }\n",
       "</style>\n",
       "<table border=\"1\" class=\"dataframe\">\n",
       "  <thead>\n",
       "    <tr style=\"text-align: right;\">\n",
       "      <th></th>\n",
       "      <th>actual values</th>\n",
       "      <th>svm predicted values</th>\n",
       "    </tr>\n",
       "  </thead>\n",
       "  <tbody>\n",
       "    <tr>\n",
       "      <th>0</th>\n",
       "      <td>152.641605</td>\n",
       "      <td>50.383056</td>\n",
       "    </tr>\n",
       "    <tr>\n",
       "      <th>1</th>\n",
       "      <td>54.701693</td>\n",
       "      <td>45.661386</td>\n",
       "    </tr>\n",
       "    <tr>\n",
       "      <th>2</th>\n",
       "      <td>41.847080</td>\n",
       "      <td>44.659181</td>\n",
       "    </tr>\n",
       "    <tr>\n",
       "      <th>3</th>\n",
       "      <td>112.853516</td>\n",
       "      <td>76.378894</td>\n",
       "    </tr>\n",
       "    <tr>\n",
       "      <th>4</th>\n",
       "      <td>54.089569</td>\n",
       "      <td>46.461572</td>\n",
       "    </tr>\n",
       "    <tr>\n",
       "      <th>...</th>\n",
       "      <td>...</td>\n",
       "      <td>...</td>\n",
       "    </tr>\n",
       "    <tr>\n",
       "      <th>97</th>\n",
       "      <td>62.659311</td>\n",
       "      <td>69.907685</td>\n",
       "    </tr>\n",
       "    <tr>\n",
       "      <th>98</th>\n",
       "      <td>81.329107</td>\n",
       "      <td>56.002596</td>\n",
       "    </tr>\n",
       "    <tr>\n",
       "      <th>99</th>\n",
       "      <td>38.174333</td>\n",
       "      <td>47.679839</td>\n",
       "    </tr>\n",
       "    <tr>\n",
       "      <th>100</th>\n",
       "      <td>46.131951</td>\n",
       "      <td>51.630083</td>\n",
       "    </tr>\n",
       "    <tr>\n",
       "      <th>101</th>\n",
       "      <td>47.356200</td>\n",
       "      <td>44.659181</td>\n",
       "    </tr>\n",
       "  </tbody>\n",
       "</table>\n",
       "<p>102 rows × 2 columns</p>\n",
       "</div>"
      ],
      "text/plain": [
       "     actual values  svm predicted values\n",
       "0       152.641605             50.383056\n",
       "1        54.701693             45.661386\n",
       "2        41.847080             44.659181\n",
       "3       112.853516             76.378894\n",
       "4        54.089569             46.461572\n",
       "..             ...                   ...\n",
       "97       62.659311             69.907685\n",
       "98       81.329107             56.002596\n",
       "99       38.174333             47.679839\n",
       "100      46.131951             51.630083\n",
       "101      47.356200             44.659181\n",
       "\n",
       "[102 rows x 2 columns]"
      ]
     },
     "execution_count": 92,
     "metadata": {},
     "output_type": "execute_result"
    }
   ],
   "source": [
    "result1"
   ]
  },
  {
   "cell_type": "code",
   "execution_count": 96,
   "id": "f8780240",
   "metadata": {},
   "outputs": [
    {
     "name": "stderr",
     "output_type": "stream",
     "text": [
      "C:\\Users\\souvi\\anaconda3\\lib\\site-packages\\seaborn\\_decorators.py:36: FutureWarning: Pass the following variables as keyword args: x, y. From version 0.12, the only valid positional argument will be `data`, and passing other arguments without an explicit keyword will result in an error or misinterpretation.\n",
      "  warnings.warn(\n"
     ]
    },
    {
     "data": {
      "text/plain": [
       "<AxesSubplot:xlabel='actual values', ylabel='svm predicted values'>"
      ]
     },
     "execution_count": 96,
     "metadata": {},
     "output_type": "execute_result"
    },
    {
     "data": {
      "image/png": "[encoded data removed]",
      "text/plain": [
       "<Figure size 432x288 with 1 Axes>"
      ]
     },
     "metadata": {
      "needs_background": "light"
     },
     "output_type": "display_data"
    }
   ],
   "source": [
    "sns.regplot(result1['actual values'] , result1['svm predicted values'])"
   ]
  },
  {
   "cell_type": "code",
   "execution_count": null,
   "id": "75c81f25",
   "metadata": {},
   "outputs": [],
   "source": []
  }
 ],
 "metadata": {
  "kernelspec": {
   "display_name": "Python 3 (ipykernel)",
   "language": "python",
   "name": "python3"
  },
  "language_info": {
   "codemirror_mode": {
    "name": "ipython",
    "version": 3
   },
   "file_extension": ".py",
   "mimetype": "text/x-python",
   "name": "python",
   "nbconvert_exporter": "python",
   "pygments_lexer": "ipython3",
   "version": "3.9.12"
  }
 },
 "nbformat": 4,
 "nbformat_minor": 5
}
